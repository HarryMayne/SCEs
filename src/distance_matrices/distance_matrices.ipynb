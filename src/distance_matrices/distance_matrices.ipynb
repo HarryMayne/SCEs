{
 "cells": [
  {
   "cell_type": "markdown",
   "metadata": {},
   "source": [
    "# Distance Matrices\n",
    "Pre-calculate all of the distance matrices for the different datasets. Then drop in replacements."
   ]
  },
  {
   "cell_type": "code",
   "execution_count": 1,
   "metadata": {},
   "outputs": [],
   "source": [
    "import os\n",
    "import json\n",
    "import numpy as np\n",
    "import gower\n",
    "from datasets import load_from_disk\n",
    "import tqdm\n",
    "from sentence_transformers import SentenceTransformer\n",
    "\n",
    "import sys\n",
    "sys.path.insert(0, \"../../src/\")\n",
    "sys.path.insert(0, \"../..\")\n",
    "from config import REPO_ROOT"
   ]
  },
  {
   "cell_type": "code",
   "execution_count": 5,
   "metadata": {},
   "outputs": [],
   "source": [
    "# MAD\n",
    "def MAD(data: list) -> float:\n",
    "    \"\"\"\n",
    "    Compute the Median Absolute Deviation (MAD) of a list of numbers.\n",
    "    \"\"\"\n",
    "    med = np.nanmedian(data)\n",
    "    deviations_list = [np.abs((x-med)) for x in data]\n",
    "    return float(np.nanmedian(deviations_list))\n",
    "\n",
    "# std\n",
    "def std(data: list) -> float:\n",
    "    return np.nanstd(data)\n",
    "\n",
    "# L1\n",
    "def l1(x_1: float, x_2: float) -> float:\n",
    "    \"\"\"\n",
    "    Scalar L1 distance\n",
    "    \"\"\"\n",
    "    return np.abs(x_1-x_2)\n",
    "\n",
    "# L2_squared\n",
    "def l2_squared(x_1: float, x_2: float) -> float:\n",
    "    \"\"\"\n",
    "    Scalar L1 distance\n",
    "    \"\"\"\n",
    "    return (x_1-x_2)**2"
   ]
  },
  {
   "cell_type": "markdown",
   "metadata": {},
   "source": [
    "# Gower"
   ]
  },
  {
   "cell_type": "code",
   "execution_count": 6,
   "metadata": {},
   "outputs": [
    {
     "name": "stdout",
     "output_type": "stream",
     "text": [
      "calculating Gower matrix for income…\n",
      "Done.\n",
      "Saved to REPO_ROOT/src/distance_matrices/income/income_gower.npy\n",
      "\n",
      "calculating Gower matrix for house_prices…\n",
      "Done.\n",
      "Saved to REPO_ROOT/src/distance_matrices/house_prices/house_prices_gower.npy\n",
      "\n",
      "calculating Gower matrix for heart_disease…\n",
      "Done.\n",
      "Saved to REPO_ROOT/src/distance_matrices/heart_disease/heart_disease_gower.npy\n",
      "\n"
     ]
    }
   ],
   "source": [
    "# 1. Define your datasets and the columns you want for each\n",
    "datasets = ['income', 'house_prices', 'heart_disease']\n",
    "columns  = [\n",
    "    ['AGEP', 'SCHL'],\n",
    "    ['area', 'bedrooms', 'bathrooms', 'floors'],\n",
    "    ['AGEP', 'SEX', 'systolic_bp', 'total_cholesterol']\n",
    "]\n",
    "\n",
    "# 2. Load the datasets metadata once\n",
    "with open(REPO_ROOT / 'src/models_datasets/datasets.json', 'r') as f:\n",
    "    datasets_dict = json.load(f)\n",
    "\n",
    "# 3. Loop through each (name, cols) pair\n",
    "for d_name, cols in zip(datasets, columns):\n",
    "    ds_info = datasets_dict[d_name]\n",
    "    ds  = load_from_disk(ds_info['filepath'])\n",
    "    \n",
    "    # 4. Pull out just the columns you need and convert to pandas\n",
    "    df = ds.select_columns(cols).to_pandas()\n",
    "    \n",
    "    # 5. Convert dtype: everything but SEX → float64, SEX → object\n",
    "    num_cols = [c for c in cols if c != 'SEX']\n",
    "    df[num_cols] = df[num_cols].astype('float64')\n",
    "    if 'SEX' in cols:\n",
    "        df['SEX'] = df['SEX'].astype('object')\n",
    "    \n",
    "    # 6. Compute Gower on exactly these columns\n",
    "    print(f\"calculating Gower matrix for {d_name}…\")\n",
    "    gower_mat = gower.gower_matrix(df)\n",
    "    print(\"Done.\")\n",
    "    \n",
    "    # 7. Ensure the output directory exists, then save\n",
    "    out_dir = REPO_ROOT / f'src/distance_matrices/{d_name}'\n",
    "    os.makedirs(out_dir, exist_ok=True)\n",
    "    out_path = os.path.join(out_dir, f'{d_name}_gower.npy')\n",
    "    np.save(out_path, gower_mat)\n",
    "    print(f\"Saved to {out_path}\\n\")"
   ]
  },
  {
   "cell_type": "markdown",
   "metadata": {},
   "source": [
    "# L1 weighed by MAD"
   ]
  },
  {
   "cell_type": "code",
   "execution_count": 7,
   "metadata": {},
   "outputs": [
    {
     "name": "stdout",
     "output_type": "stream",
     "text": [
      "income ['AGEP', 'SCHL']\n"
     ]
    },
    {
     "name": "stderr",
     "output_type": "stream",
     "text": [
      "1920it [01:01, 31.17it/s]"
     ]
    },
    {
     "name": "stdout",
     "output_type": "stream",
     "text": [
      "Saved to REPO_ROOT/src/distance_matrices/income/income_l1.npy\n",
      "\n"
     ]
    },
    {
     "name": "stderr",
     "output_type": "stream",
     "text": [
      "\n"
     ]
    }
   ],
   "source": [
    "#### FOLKTEXTS\n",
    "\n",
    "datasets = ['income']\n",
    "columns  = [['AGEP', 'SCHL']]\n",
    "\n",
    "with open(REPO_ROOT / 'src/models_datasets/datasets.json', 'r') as f:\n",
    "    datasets_dict = json.load(f)\n",
    "\n",
    "# 3. Loop through each (name, cols) pair\n",
    "for d_name, cols in zip(datasets, columns):\n",
    "    ds_info = datasets_dict[d_name]\n",
    "    print(d_name, cols)\n",
    "    ds  = load_from_disk(ds_info['filepath'])\n",
    "\n",
    "    # 4. Pull out just the columns you need and convert to pandas\n",
    "    df = ds.select_columns(cols).to_pandas()\n",
    "\n",
    "    # get MADs\n",
    "    MADs = {}\n",
    "    for col in cols:\n",
    "        MADs.update({col:MAD(df[col])})\n",
    "\n",
    "    # calculate matrix in a really terrible way\n",
    "\n",
    "    # init\n",
    "    l1_MAD = np.zeros((len(df), len(df)))\n",
    "\n",
    "    for index_1, row_1 in tqdm.tqdm(df.iterrows()):\n",
    "        for index_2, row_2 in df.iterrows():\n",
    "\n",
    "            age_dist = l1(row_1['AGEP'], row_2['AGEP'])/MADs['AGEP']\n",
    "            sch_dist = l1(row_1['SCHL'], row_2['SCHL'])/MADs['SCHL']\n",
    "            l1_MAD[index_1, index_2] = age_dist+sch_dist # sum across all features\n",
    "\n",
    "    # distance matriz\n",
    "    l1_MAD\n",
    "\n",
    "    # 7. Ensure the output directory exists, then save\n",
    "    out_dir = REPO_ROOT / f'src/distance_matrices/{d_name}'\n",
    "    os.makedirs(out_dir, exist_ok=True)\n",
    "    out_path = os.path.join(out_dir, f'{d_name}_l1.npy')\n",
    "    np.save(out_path, l1_MAD)\n",
    "    print(f\"Saved to {out_path}\\n\")"
   ]
  },
  {
   "cell_type": "code",
   "execution_count": 8,
   "metadata": {},
   "outputs": [
    {
     "name": "stdout",
     "output_type": "stream",
     "text": [
      "house_prices ['area', 'bedrooms', 'bathrooms', 'floors']\n"
     ]
    },
    {
     "name": "stderr",
     "output_type": "stream",
     "text": [
      "39it [00:01, 26.13it/s]"
     ]
    },
    {
     "name": "stderr",
     "output_type": "stream",
     "text": [
      "1600it [01:01, 25.88it/s]"
     ]
    },
    {
     "name": "stdout",
     "output_type": "stream",
     "text": [
      "Saved to REPO_ROOT/src/distance_matrices/house_prices/house_prices_l1.npy\n",
      "\n"
     ]
    },
    {
     "name": "stderr",
     "output_type": "stream",
     "text": [
      "\n"
     ]
    }
   ],
   "source": [
    "#### house prices\n",
    "\n",
    "datasets = ['house_prices']\n",
    "columns  = [['area', 'bedrooms', 'bathrooms', 'floors']]\n",
    "\n",
    "with open(REPO_ROOT / 'src/models_datasets/datasets.json', 'r') as f:\n",
    "    datasets_dict = json.load(f)\n",
    "\n",
    "# 3. Loop through each (name, cols) pair\n",
    "for d_name, cols in zip(datasets, columns):\n",
    "    ds_info = datasets_dict[d_name]\n",
    "    print(d_name, cols)\n",
    "    ds  = load_from_disk(ds_info['filepath'])\n",
    "\n",
    "    # 4. Pull out just the columns you need and convert to pandas\n",
    "    df = ds.select_columns(cols).to_pandas()\n",
    "\n",
    "    # get MADs\n",
    "    MADs = {}\n",
    "    for col in cols:\n",
    "        MADs.update({col:MAD(df[col])})\n",
    "\n",
    "    # calculate matrix in a really terrible way\n",
    "\n",
    "    # init\n",
    "    l1_MAD = np.zeros((len(df), len(df)))\n",
    "\n",
    "    for index_1, row_1 in tqdm.tqdm(df.iterrows()):\n",
    "        for index_2, row_2 in df.iterrows():\n",
    "\n",
    "            dist_1 = l1(row_1['area'], row_2['area'])/MADs['area']\n",
    "            dist_2 = l1(row_1['bedrooms'], row_2['bedrooms'])/MADs['bedrooms']\n",
    "            dist_3 = l1(row_1['bathrooms'], row_2['bathrooms'])/MADs['bathrooms']\n",
    "            dist_4 = l1(row_1['floors'], row_2['floors'])/MADs['floors']\n",
    "\n",
    "            l1_MAD[index_1, index_2] = dist_1+dist_2+dist_3+dist_4 # sum across all features\n",
    "\n",
    "    # distance matriz\n",
    "    l1_MAD\n",
    "\n",
    "    # 7. Ensure the output directory exists, then save\n",
    "    out_dir = REPO_ROOT / f'src/distance_matrices/{d_name}'\n",
    "    os.makedirs(out_dir, exist_ok=True)\n",
    "    out_path = os.path.join(out_dir, f'{d_name}_l1.npy')\n",
    "    np.save(out_path, l1_MAD)\n",
    "    print(f\"Saved to {out_path}\\n\")"
   ]
  },
  {
   "cell_type": "code",
   "execution_count": 9,
   "metadata": {},
   "outputs": [
    {
     "name": "stdout",
     "output_type": "stream",
     "text": [
      "heart_disease ['AGEP', 'SEX', 'systolic_bp', 'total_cholesterol']\n"
     ]
    },
    {
     "name": "stderr",
     "output_type": "stream",
     "text": [
      "0it [00:00, ?it/s]"
     ]
    },
    {
     "name": "stderr",
     "output_type": "stream",
     "text": [
      "1936it [01:29, 21.54it/s]\n"
     ]
    },
    {
     "name": "stdout",
     "output_type": "stream",
     "text": [
      "Saved to REPO_ROOT/src/distance_matrices/heart_disease/heart_disease_l1.npy\n",
      "\n"
     ]
    }
   ],
   "source": [
    "#### heart disease\n",
    "\n",
    "datasets = ['heart_disease']\n",
    "columns  = [['AGEP', 'SEX', 'systolic_bp', 'total_cholesterol']]\n",
    "\n",
    "with open(REPO_ROOT / 'src/models_datasets/datasets.json', 'r') as f:\n",
    "    datasets_dict = json.load(f)\n",
    "\n",
    "# 3. Loop through each (name, cols) pair\n",
    "for d_name, cols in zip(datasets, columns):\n",
    "    ds_info = datasets_dict[d_name]\n",
    "    print(d_name, cols)\n",
    "    ds  = load_from_disk(ds_info['filepath'])\n",
    "\n",
    "    # 4. Pull out just the columns you need and convert to pandas\n",
    "    df = ds.select_columns(cols).to_pandas()\n",
    "\n",
    "    # get MADs\n",
    "    MADs = {}\n",
    "    for col in cols:\n",
    "        MADs.update({col:MAD(df[col])})\n",
    "\n",
    "    # calculate matrix in a really terrible way\n",
    "\n",
    "    # init\n",
    "    l1_MAD = np.zeros((len(df), len(df)))\n",
    "\n",
    "    for index_1, row_1 in tqdm.tqdm(df.iterrows()):\n",
    "        for index_2, row_2 in df.iterrows():\n",
    "\n",
    "            dist_1 = l1(row_1['AGEP'], row_2['AGEP'])/MADs['AGEP']\n",
    "            dist_2 = l1(row_1['SEX'], row_2['SEX'])/MADs['SEX']\n",
    "            dist_3 = l1(row_1['systolic_bp'], row_2['systolic_bp'])/MADs['systolic_bp']\n",
    "            dist_4 = l1(row_1['total_cholesterol'], row_2['total_cholesterol'])/MADs['total_cholesterol']\n",
    "\n",
    "            l1_MAD[index_1, index_2] = dist_1+dist_2+dist_3+dist_4 # sum across all features\n",
    "\n",
    "    # distance matriz\n",
    "    l1_MAD\n",
    "\n",
    "    # 7. Ensure the output directory exists, then save\n",
    "    out_dir = REPO_ROOT / f'src/distance_matrices/{d_name}'\n",
    "    os.makedirs(out_dir, exist_ok=True)\n",
    "    out_path = os.path.join(out_dir, f'{d_name}_l1.npy')\n",
    "    np.save(out_path, l1_MAD)\n",
    "    print(f\"Saved to {out_path}\\n\")"
   ]
  },
  {
   "cell_type": "markdown",
   "metadata": {},
   "source": [
    "# L2 squared weighted by standard deviations"
   ]
  },
  {
   "cell_type": "code",
   "execution_count": 10,
   "metadata": {},
   "outputs": [
    {
     "name": "stdout",
     "output_type": "stream",
     "text": [
      "income ['AGEP', 'SCHL']\n"
     ]
    },
    {
     "name": "stderr",
     "output_type": "stream",
     "text": [
      "0it [00:00, ?it/s]"
     ]
    },
    {
     "name": "stderr",
     "output_type": "stream",
     "text": [
      "1920it [00:47, 40.15it/s]"
     ]
    },
    {
     "name": "stdout",
     "output_type": "stream",
     "text": [
      "Saved to REPO_ROOT/src/distance_matrices/income/income_l2.npy\n",
      "\n"
     ]
    },
    {
     "name": "stderr",
     "output_type": "stream",
     "text": [
      "\n"
     ]
    }
   ],
   "source": [
    "#### FOLKTEXTS\n",
    "\n",
    "datasets = ['income']\n",
    "columns  = [['AGEP', 'SCHL']]\n",
    "\n",
    "with open(REPO_ROOT / 'src/models_datasets/datasets.json', 'r') as f:\n",
    "    datasets_dict = json.load(f)\n",
    "\n",
    "# 3. Loop through each (name, cols) pair\n",
    "for d_name, cols in zip(datasets, columns):\n",
    "    ds_info = datasets_dict[d_name]\n",
    "    print(d_name, cols)\n",
    "    ds  = load_from_disk(ds_info['filepath'])\n",
    "\n",
    "    # 4. Pull out just the columns you need and convert to pandas\n",
    "    df = ds.select_columns(cols).to_pandas()\n",
    "\n",
    "    # get MADs\n",
    "    STDs = {}\n",
    "    for col in cols:\n",
    "        STDs.update({col:std(df[col])})\n",
    "\n",
    "    # calculate matrix in a really terrible way\n",
    "\n",
    "    # init\n",
    "    l2_STD = np.zeros((len(df), len(df)))\n",
    "\n",
    "    for index_1, row_1 in tqdm.tqdm(df.iterrows()):\n",
    "        for index_2, row_2 in df.iterrows():\n",
    "\n",
    "            age_dist = l2_squared(row_1['AGEP'], row_2['AGEP'])/STDs['AGEP']\n",
    "            sch_dist = l2_squared(row_1['SCHL'], row_2['SCHL'])/STDs['SCHL']\n",
    "\n",
    "            l2_STD[index_1, index_2] = age_dist+sch_dist # sum across all features\n",
    "\n",
    "    # distance matriz\n",
    "    l2_STD\n",
    "\n",
    "    # 7. Ensure the output directory exists, then save\n",
    "    out_dir = REPO_ROOT / f'src/distance_matrices/{d_name}'\n",
    "    os.makedirs(out_dir, exist_ok=True)\n",
    "    out_path = os.path.join(out_dir, f'{d_name}_l2.npy')\n",
    "    np.save(out_path, l2_STD)\n",
    "    print(f\"Saved to {out_path}\\n\")"
   ]
  },
  {
   "cell_type": "code",
   "execution_count": 11,
   "metadata": {},
   "outputs": [
    {
     "name": "stdout",
     "output_type": "stream",
     "text": [
      "house_prices ['area', 'bedrooms', 'bathrooms', 'floors']\n"
     ]
    },
    {
     "name": "stderr",
     "output_type": "stream",
     "text": [
      "1600it [00:44, 36.22it/s]"
     ]
    },
    {
     "name": "stdout",
     "output_type": "stream",
     "text": [
      "Saved to REPO_ROOT/src/distance_matrices/house_prices/house_prices_l2.npy\n",
      "\n"
     ]
    },
    {
     "name": "stderr",
     "output_type": "stream",
     "text": [
      "\n"
     ]
    }
   ],
   "source": [
    "#### house prices\n",
    "\n",
    "datasets = ['house_prices']\n",
    "columns  = [['area', 'bedrooms', 'bathrooms', 'floors']]\n",
    "\n",
    "with open(REPO_ROOT / 'src/models_datasets/datasets.json', 'r') as f:\n",
    "    datasets_dict = json.load(f)\n",
    "\n",
    "# 3. Loop through each (name, cols) pair\n",
    "for d_name, cols in zip(datasets, columns):\n",
    "    ds_info = datasets_dict[d_name]\n",
    "    print(d_name, cols)\n",
    "    ds  = load_from_disk(ds_info['filepath'])\n",
    "\n",
    "    # 4. Pull out just the columns you need and convert to pandas\n",
    "    df = ds.select_columns(cols).to_pandas()\n",
    "\n",
    "    # get MADs\n",
    "    STDs = {}\n",
    "    for col in cols:\n",
    "        STDs.update({col:std(df[col])})\n",
    "\n",
    "    # calculate matrix in a really terrible way\n",
    "\n",
    "    # init\n",
    "    l2_STD = np.zeros((len(df), len(df)))\n",
    "\n",
    "    for index_1, row_1 in tqdm.tqdm(df.iterrows()):\n",
    "        for index_2, row_2 in df.iterrows():\n",
    "\n",
    "            dist_1 = l2_squared(row_1['area'], row_2['area'])/STDs['area']\n",
    "            dist_2 = l2_squared(row_1['bedrooms'], row_2['bedrooms'])/STDs['bedrooms']\n",
    "            dist_3 = l2_squared(row_1['bathrooms'], row_2['bathrooms'])/STDs['bathrooms']\n",
    "            dist_4 = l2_squared(row_1['floors'], row_2['floors'])/STDs['floors']\n",
    "\n",
    "            l2_STD[index_1, index_2] = dist_1+dist_2+dist_3+dist_4 # sum across all features\n",
    "\n",
    "    # distance matriz\n",
    "    l2_STD\n",
    "\n",
    "    # 7. Ensure the output directory exists, then save\n",
    "    out_dir = REPO_ROOT / f'src/distance_matrices/{d_name}'\n",
    "    os.makedirs(out_dir, exist_ok=True)\n",
    "    out_path = os.path.join(out_dir, f'{d_name}_l2.npy')\n",
    "    np.save(out_path, l2_STD)\n",
    "    print(f\"Saved to {out_path}\\n\")"
   ]
  },
  {
   "cell_type": "code",
   "execution_count": 12,
   "metadata": {},
   "outputs": [
    {
     "name": "stdout",
     "output_type": "stream",
     "text": [
      "heart_disease ['AGEP', 'SEX', 'systolic_bp', 'total_cholesterol']\n"
     ]
    },
    {
     "name": "stderr",
     "output_type": "stream",
     "text": [
      "1936it [01:02, 30.74it/s]"
     ]
    },
    {
     "name": "stdout",
     "output_type": "stream",
     "text": [
      "Saved to REPO_ROOT/src/distance_matrices/heart_disease/heart_disease_l2.npy\n",
      "\n"
     ]
    },
    {
     "name": "stderr",
     "output_type": "stream",
     "text": [
      "\n"
     ]
    }
   ],
   "source": [
    "#### heart disease\n",
    "\n",
    "datasets = ['heart_disease']\n",
    "columns  = [['AGEP', 'SEX', 'systolic_bp', 'total_cholesterol']]\n",
    "\n",
    "with open(REPO_ROOT / 'src/models_datasets/datasets.json', 'r') as f:\n",
    "    datasets_dict = json.load(f)\n",
    "\n",
    "# 3. Loop through each (name, cols) pair\n",
    "for d_name, cols in zip(datasets, columns):\n",
    "    ds_info = datasets_dict[d_name]\n",
    "    print(d_name, cols)\n",
    "    ds  = load_from_disk(ds_info['filepath'])\n",
    "\n",
    "    # 4. Pull out just the columns you need and convert to pandas\n",
    "    df = ds.select_columns(cols).to_pandas()\n",
    "\n",
    "    # get MADs\n",
    "    STDs = {}\n",
    "    for col in cols:\n",
    "        STDs.update({col:std(df[col])})\n",
    "\n",
    "    # calculate matrix in a really terrible way\n",
    "\n",
    "    # init\n",
    "    l2_STD = np.zeros((len(df), len(df)))\n",
    "\n",
    "    for index_1, row_1 in tqdm.tqdm(df.iterrows()):\n",
    "        for index_2, row_2 in df.iterrows():\n",
    "\n",
    "            dist_1 = l2_squared(row_1['AGEP'], row_2['AGEP'])/STDs['AGEP']\n",
    "            dist_2 = l2_squared(row_1['SEX'], row_2['SEX'])/STDs['SEX']\n",
    "            dist_3 = l2_squared(row_1['systolic_bp'], row_2['systolic_bp'])/STDs['systolic_bp']\n",
    "            dist_4 = l2_squared(row_1['total_cholesterol'], row_2['total_cholesterol'])/STDs['total_cholesterol']\n",
    "\n",
    "            l2_STD[index_1, index_2] = dist_1+dist_2+dist_3+dist_4 # sum across all features\n",
    "\n",
    "    # distance matriz\n",
    "    l2_STD\n",
    "\n",
    "    # 7. Ensure the output directory exists, then save\n",
    "    out_dir = REPO_ROOT / f'src/distance_matrices/{d_name}'\n",
    "    os.makedirs(out_dir, exist_ok=True)\n",
    "    out_path = os.path.join(out_dir, f'{d_name}_l2.npy')\n",
    "    np.save(out_path, l2_STD)\n",
    "    print(f\"Saved to {out_path}\\n\")"
   ]
  },
  {
   "cell_type": "markdown",
   "metadata": {},
   "source": [
    "# Semantic distance"
   ]
  },
  {
   "cell_type": "code",
   "execution_count": 56,
   "metadata": {},
   "outputs": [],
   "source": [
    "# init model\n",
    "model = SentenceTransformer('sentence-transformers/all-mpnet-base-v2')\n",
    "\n",
    "education = {\n",
    "        'N/A - no schooling completed': 1,\n",
    "        'Nursery school / preschool': 2,\n",
    "        'Kindergarten': 3,\n",
    "        '1st grade only': 4,\n",
    "        '2nd grade': 5,\n",
    "        '3rd grade': 6,\n",
    "        '4th grade': 7,\n",
    "        '5th grade': 8,\n",
    "        '6th grade': 9,\n",
    "        '7th grade': 10,\n",
    "        '8th grade': 11,\n",
    "        '9th grade': 12,\n",
    "        '10th grade': 13,\n",
    "        '11th grade': 14,\n",
    "        '12th grade, no diploma': 15,\n",
    "        'Regular high school diploma': 16,\n",
    "        'GED or alternative credential': 17,\n",
    "        'Some college, less than 1 year': 18,\n",
    "        'Some college, 1 or more years, no degree': 19,\n",
    "        \"Associate's degree\": 20,\n",
    "        \"Bachelor's degree\": 21,\n",
    "        \"Master's degree\": 22,\n",
    "        \"Professional degree beyond a bachelor's degree\": 23,\n",
    "        'Doctorate degree': 24\n",
    "    }\n",
    "\n",
    "num2edu = {v:k for k,v in education.items()}\n",
    "\n",
    "def cos_sim(a, b):\n",
    "    return np.dot(a, b) / (np.linalg.norm(a) * np.linalg.norm(b))"
   ]
  },
  {
   "cell_type": "code",
   "execution_count": 57,
   "metadata": {},
   "outputs": [
    {
     "name": "stdout",
     "output_type": "stream",
     "text": [
      "income ['AGEP', 'SCHL']\n"
     ]
    },
    {
     "name": "stderr",
     "output_type": "stream",
     "text": [
      "1920it [00:00, 90447.28it/s]"
     ]
    },
    {
     "name": "stderr",
     "output_type": "stream",
     "text": [
      "\n",
      "1920it [01:05, 29.36it/s]"
     ]
    },
    {
     "name": "stdout",
     "output_type": "stream",
     "text": [
      "Saved to REPO_ROOT/src/distance_matrices/income/income_semantic.npy\n",
      "\n"
     ]
    },
    {
     "name": "stderr",
     "output_type": "stream",
     "text": [
      "\n"
     ]
    }
   ],
   "source": [
    "datasets = ['income']\n",
    "columns  = [['AGEP', 'SCHL']]\n",
    "\n",
    "with open(REPO_ROOT / 'src/models_datasets/datasets.json', 'r') as f:\n",
    "    datasets_dict = json.load(f)\n",
    "\n",
    "# 3. Loop through each (name, cols) pair\n",
    "for d_name, cols in zip(datasets, columns):\n",
    "    ds_info = datasets_dict[d_name]\n",
    "    print(d_name, cols)\n",
    "    ds  = load_from_disk(ds_info['filepath'])\n",
    "\n",
    "    # 4. Pull out just the columns you need and convert to pandas\n",
    "    df = ds.select_columns(cols).to_pandas()\n",
    "\n",
    "    prompts = []\n",
    "    for index_1, row_1 in tqdm.tqdm(df.iterrows()):\n",
    "\n",
    "        prompt = (f\"\"\"You will be provided data corresponding to a survey respondent. The survey was conducted among US residents in 2018.\n",
    "\n",
    "The respondent data is:\n",
    "The age is: {row_1['AGEP']} years old.\n",
    "The highest educational attainment is: {num2edu[row_1['SCHL']]}.\n",
    "\"\"\")\n",
    "\n",
    "        prompts.append(prompt)\n",
    "\n",
    "    # append prompts\n",
    "    df['prompts'] = prompts\n",
    "\n",
    "    # get embeddings\n",
    "    embeddings = model.encode(prompts) #1920, 768\n",
    "    #df['embeddings'] = embeddings\n",
    "\n",
    "    # init\n",
    "    semantic = np.zeros((len(df), len(df)))\n",
    "\n",
    "    for index_1, row_1 in tqdm.tqdm(df.iterrows()):\n",
    "        for index_2, row_2 in df.iterrows():\n",
    "            semantic[index_1, index_2] = 1 - cos_sim(embeddings[index_1], embeddings[index_2]) # 1 - cossim\n",
    "\n",
    "    # 7. Ensure the output directory exists, then save\n",
    "    out_dir = REPO_ROOT / f'src/distance_matrices/{d_name}'\n",
    "    os.makedirs(out_dir, exist_ok=True)\n",
    "    out_path = os.path.join(out_dir, f'{d_name}_semantic.npy')\n",
    "    np.save(out_path, semantic)\n",
    "    print(f\"Saved to {out_path}\\n\")"
   ]
  },
  {
   "cell_type": "code",
   "execution_count": 58,
   "metadata": {},
   "outputs": [
    {
     "name": "stdout",
     "output_type": "stream",
     "text": [
      "house_prices ['area', 'bedrooms', 'bathrooms', 'floors']\n"
     ]
    },
    {
     "name": "stderr",
     "output_type": "stream",
     "text": [
      "1600it [00:00, 75030.59it/s]"
     ]
    },
    {
     "name": "stderr",
     "output_type": "stream",
     "text": [
      "\n",
      "1600it [00:45, 34.82it/s]"
     ]
    },
    {
     "name": "stdout",
     "output_type": "stream",
     "text": [
      "Saved to REPO_ROOT/src/distance_matrices/house_prices/house_prices_semantic.npy\n",
      "\n"
     ]
    },
    {
     "name": "stderr",
     "output_type": "stream",
     "text": [
      "\n"
     ]
    }
   ],
   "source": [
    "datasets = ['house_prices']\n",
    "columns  = [['area', 'bedrooms', 'bathrooms', 'floors']]\n",
    "\n",
    "with open(REPO_ROOT / 'src/models_datasets/datasets.json', 'r') as f:\n",
    "    datasets_dict = json.load(f)\n",
    "\n",
    "# 3. Loop through each (name, cols) pair\n",
    "for d_name, cols in zip(datasets, columns):\n",
    "    ds_info = datasets_dict[d_name]\n",
    "    print(d_name, cols)\n",
    "    ds  = load_from_disk(ds_info['filepath'])\n",
    "\n",
    "    # 4. Pull out just the columns you need and convert to pandas\n",
    "    df = ds.select_columns(cols).to_pandas()\n",
    "\n",
    "    prompts = []\n",
    "    for index_1, row_1 in tqdm.tqdm(df.iterrows()):\n",
    "\n",
    "        prompt = (f\"\"\"You will be provided with data about a house. The data was collected in 2015 from across the United States.\n",
    "\n",
    "The house data is:\n",
    "The size of the house (sq ft) is: {row_1['area']}.\n",
    "The number of bedrooms is: {row_1['bedrooms']}.\n",
    "The number of bathrooms is: {row_1['bathrooms']}.\n",
    "The number of floors is: {row_1['floors']}.\n",
    "\"\"\")\n",
    "\n",
    "        prompts.append(prompt)\n",
    "\n",
    "    # append prompts\n",
    "    df['prompts'] = prompts\n",
    "\n",
    "    # get embeddings\n",
    "    embeddings = model.encode(prompts) \n",
    "\n",
    "    # init\n",
    "    semantic = np.zeros((len(df), len(df)))\n",
    "\n",
    "    for index_1, row_1 in tqdm.tqdm(df.iterrows()):\n",
    "        for index_2, row_2 in df.iterrows():\n",
    "            semantic[index_1, index_2] = 1 - cos_sim(embeddings[index_1], embeddings[index_2]) # 1 - cossim\n",
    "\n",
    "    # 7. Ensure the output directory exists, then save\n",
    "    out_dir = REPO_ROOT / f'src/distance_matrices/{d_name}'\n",
    "    os.makedirs(out_dir, exist_ok=True)\n",
    "    out_path = os.path.join(out_dir, f'{d_name}_semantic.npy')\n",
    "    np.save(out_path, semantic)\n",
    "    print(f\"Saved to {out_path}\\n\")"
   ]
  },
  {
   "cell_type": "code",
   "execution_count": 59,
   "metadata": {},
   "outputs": [
    {
     "name": "stdout",
     "output_type": "stream",
     "text": [
      "heart_disease ['AGEP', 'SEX', 'systolic_bp', 'total_cholesterol']\n"
     ]
    },
    {
     "name": "stderr",
     "output_type": "stream",
     "text": [
      "1936it [00:00, 75560.39it/s]"
     ]
    },
    {
     "name": "stderr",
     "output_type": "stream",
     "text": [
      "\n",
      "1936it [01:05, 29.73it/s]"
     ]
    },
    {
     "name": "stdout",
     "output_type": "stream",
     "text": [
      "Saved to REPO_ROOT/src/distance_matrices/heart_disease/heart_disease_semantic.npy\n",
      "\n"
     ]
    },
    {
     "name": "stderr",
     "output_type": "stream",
     "text": [
      "\n"
     ]
    },
    {
     "ename": "",
     "evalue": "",
     "output_type": "error",
     "traceback": [
      "\u001b[1;31mThe Kernel crashed while executing code in the current cell or a previous cell. \n",
      "\u001b[1;31mPlease review the code in the cell(s) to identify a possible cause of the failure. \n",
      "\u001b[1;31mClick <a href='https://aka.ms/vscodeJupyterKernelCrash'>here</a> for more info. \n",
      "\u001b[1;31mView Jupyter <a href='command:jupyter.viewOutput'>log</a> for further details."
     ]
    }
   ],
   "source": [
    "sex_d = {1:\"Male\", 2:\"Female\"}\n",
    "\n",
    "datasets = ['heart_disease']\n",
    "columns  = [['AGEP', 'SEX', 'systolic_bp', 'total_cholesterol']]\n",
    "\n",
    "with open(REPO_ROOT / 'src/models_datasets/datasets.json', 'r') as f:\n",
    "    datasets_dict = json.load(f)\n",
    "\n",
    "# 3. Loop through each (name, cols) pair\n",
    "for d_name, cols in zip(datasets, columns):\n",
    "    ds_info = datasets_dict[d_name]\n",
    "    print(d_name, cols)\n",
    "    ds  = load_from_disk(ds_info['filepath'])\n",
    "\n",
    "    # 4. Pull out just the columns you need and convert to pandas\n",
    "    df = ds.select_columns(cols).to_pandas()\n",
    "\n",
    "    prompts = []\n",
    "    for index_1, row_1 in tqdm.tqdm(df.iterrows()):\n",
    "\n",
    "        prompt = (f\"\"\"You will be provided with clinical data for an individual. The data was collected in 2015 from across the United States.\n",
    "\n",
    "The patient data is:\n",
    "The age is: {row_1['AGEP']} years.\n",
    "The sex is: {sex_d[row_1['SEX']]}.\n",
    "The systolic blood pressure (mmHg) is: {row_1['systolic_bp']}.\n",
    "The total cholesterol (mg/dL) is: {row_1['total_cholesterol']}.\n",
    "\"\"\")\n",
    "        prompts.append(prompt)\n",
    "\n",
    "    # append prompts\n",
    "    df['prompts'] = prompts\n",
    "\n",
    "    # get embeddings\n",
    "    embeddings = model.encode(prompts) \n",
    "\n",
    "    # init\n",
    "    semantic = np.zeros((len(df), len(df)))\n",
    "\n",
    "    for index_1, row_1 in tqdm.tqdm(df.iterrows()):\n",
    "        for index_2, row_2 in df.iterrows():\n",
    "            semantic[index_1, index_2] = 1 - cos_sim(embeddings[index_1], embeddings[index_2]) # 1 - cossim\n",
    "\n",
    "    # 7. Ensure the output directory exists, then save\n",
    "    out_dir = REPO_ROOT / f'src/distance_matrices/{d_name}'\n",
    "    os.makedirs(out_dir, exist_ok=True)\n",
    "    out_path = os.path.join(out_dir, f'{d_name}_semantic.npy')\n",
    "    np.save(out_path, semantic)\n",
    "    print(f\"Saved to {out_path}\\n\")"
   ]
  },
  {
   "cell_type": "code",
   "execution_count": null,
   "metadata": {},
   "outputs": [],
   "source": []
  }
 ],
 "metadata": {
  "kernelspec": {
   "display_name": "counterfactuals",
   "language": "python",
   "name": "python3"
  },
  "language_info": {
   "codemirror_mode": {
    "name": "ipython",
    "version": 3
   },
   "file_extension": ".py",
   "mimetype": "text/x-python",
   "name": "python",
   "nbconvert_exporter": "python",
   "pygments_lexer": "ipython3",
   "version": "3.11.13"
  }
 },
 "nbformat": 4,
 "nbformat_minor": 2
}
