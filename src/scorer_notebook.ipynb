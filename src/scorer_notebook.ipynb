{
 "cells": [
  {
   "cell_type": "markdown",
   "metadata": {},
   "source": [
    "# Scorer Notebook\n",
    "The main notebook to do postprocessing and score the results. Postprocessing can be run via CLI or through this notebook"
   ]
  },
  {
   "cell_type": "code",
   "execution_count": null,
   "metadata": {},
   "outputs": [],
   "source": [
    "import pandas as pd\n",
    "import numpy as np\n",
    "import os\n",
    "import sys\n",
    "import argparse\n",
    "import json\n",
    "import os\n",
    "import gc\n",
    "import warnings\n",
    "from typing import List, Dict, Any\n",
    "import time\n",
    "import torch\n",
    "from datasets import load_dataset, load_from_disk\n",
    "from tqdm import tqdm\n",
    "from vllm import LLM, SamplingParams\n",
    "from utils import postprocessing, scoring_function\n",
    "\n",
    "sys.path.insert(0, \"../src/\")\n",
    "sys.path.insert(0, \"..\")\n",
    "from config import REPO_ROOT"
   ]
  },
  {
   "cell_type": "markdown",
   "metadata": {},
   "source": [
    "## Postprocessing\n",
    "\n",
    "This might already be done in the bash script"
   ]
  },
  {
   "cell_type": "code",
   "execution_count": null,
   "metadata": {},
   "outputs": [],
   "source": [
    "# iterature through files and run postprocessing\n",
    "standard_filepath = REPO_ROOT / \"results/heart_disease_minimal/claude_3_7_sonnet.json\" # o3, claude_3_7_sonnet. gpt4_1\n",
    "results = postprocessing(standard_filepath, force=True, distance_metric=\"gower\", save=True, explicit_dataset = \"\")"
   ]
  },
  {
   "cell_type": "code",
   "execution_count": null,
   "metadata": {},
   "outputs": [],
   "source": [
    "datasets = [\"income\", \"income_minimal\", \"house_prices\", \"house_prices_minimal\", \"heart_disease\", \"heart_disease_minimal\"]\n",
    "for dataset in datasets:\n",
    "    standard_filepath = REPO_ROOT / f\"analysis/temperature_1/{dataset}/claude_3_7_sonnet.json\" # o3, claude_3_7_sonnet. gpt4_1\n",
    "    results = postprocessing(standard_filepath, force=True, distance_metric=\"gower\", save=True, explicit_dataset = \"\")"
   ]
  },
  {
   "cell_type": "markdown",
   "metadata": {},
   "source": [
    "## Scoring\n",
    "\n",
    "Score the results for specific models and datasets"
   ]
  },
  {
   "cell_type": "code",
   "execution_count": null,
   "metadata": {},
   "outputs": [],
   "source": [
    "scores = scoring_function(standard_filepath, verbose=1, overwrite=False)\n",
    "print(scores)"
   ]
  },
  {
   "cell_type": "markdown",
   "metadata": {},
   "source": [
    "#### Summary stats"
   ]
  },
  {
   "cell_type": "code",
   "execution_count": null,
   "metadata": {},
   "outputs": [],
   "source": [
    "\"\"\"\n",
    "Compute the mean and standard deviation (population and sample)\n",
    "for the exact-match percentages reported in Table 2.\n",
    "\"\"\"\n",
    "\n",
    "# Table values: (Income, House prices, Heart disease) for each model\n",
    "values = [\n",
    "    0.00, 0.00, 0.15,   # Gemma 2 27B\n",
    "    3.33, 0.00, 0.00,   # Llama 3 3 70B\n",
    "    6.89, 0.06, 0.05,   # DeepSeek-R1 32B\n",
    "    19.70, 0.19, 0.42,  # DeepSeek-R1 70B\n",
    "    9.95, 0.00, 0.00,   # Claude Sonnet 3.7\n",
    "    15.70, 0.00, 0.00,  # GPT-4.1\n",
    "    4.27, 0.00, 0.00    # o3\n",
    "]\n",
    "\n",
    "# Convert to NumPy array (optional but convenient)\n",
    "arr = np.array(values)\n",
    "\n",
    "mean_val = np.mean(arr)\n",
    "std_population = np.std(arr, ddof=0)  # Population SD (N)\n",
    "std_sample = np.std(arr, ddof=1)      # Sample SD (N-1)\n",
    "\n",
    "print(f\"Values (n={len(arr)}):\\n{arr}\\n\")\n",
    "print(f\"Mean                 : {mean_val:.6f}\")\n",
    "print(f\"Population SD (σ)    : {std_population:.6f}\")\n",
    "print(f\"Sample SD (s, unbiased): {std_sample:.6f}\")\n"
   ]
  }
 ],
 "metadata": {
  "kernelspec": {
   "display_name": "counterfactuals",
   "language": "python",
   "name": "python3"
  },
  "language_info": {
   "codemirror_mode": {
    "name": "ipython",
    "version": 3
   },
   "file_extension": ".py",
   "mimetype": "text/x-python",
   "name": "python",
   "nbconvert_exporter": "python",
   "pygments_lexer": "ipython3",
   "version": "3.12.3"
  }
 },
 "nbformat": 4,
 "nbformat_minor": 2
}
