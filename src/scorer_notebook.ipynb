{
 "cells": [
  {
   "cell_type": "markdown",
   "metadata": {},
   "source": [
    "# Scorer Notebook\n",
    "The main notebook to do postprocessing and score the results. Postprocessing can be run via CLI or through this notebook"
   ]
  },
  {
   "cell_type": "code",
   "execution_count": 1,
   "metadata": {},
   "outputs": [
    {
     "name": "stdout",
     "output_type": "stream",
     "text": [
      "INFO 07-14 09:51:35 [__init__.py:239] Automatically detected platform cuda.\n"
     ]
    }
   ],
   "source": [
    "import pandas as pd\n",
    "import numpy as np\n",
    "import os\n",
    "import sys\n",
    "import argparse\n",
    "import json\n",
    "import os\n",
    "import gc\n",
    "import warnings\n",
    "from typing import List, Dict, Any\n",
    "import time\n",
    "import torch\n",
    "from datasets import load_dataset, load_from_disk\n",
    "from tqdm import tqdm\n",
    "from vllm import LLM, SamplingParams\n",
    "from utils import postprocessing, scoring_function\n",
    "\n",
    "sys.path.insert(0, \"../src/\")\n",
    "sys.path.insert(0, \"..\")\n",
    "from config import REPO_ROOT"
   ]
  },
  {
   "cell_type": "markdown",
   "metadata": {},
   "source": [
    "## Postprocessing\n",
    "\n",
    "This might already be done in the bash script"
   ]
  },
  {
   "cell_type": "code",
   "execution_count": 2,
   "metadata": {},
   "outputs": [
    {
     "name": "stdout",
     "output_type": "stream",
     "text": [
      "Extracted Dataset Name: heart_disease_minimal\n"
     ]
    },
    {
     "data": {
      "application/vnd.jupyter.widget-view+json": {
       "model_id": "b3b89b3f58cb4e25aba50086318074ad",
       "version_major": 2,
       "version_minor": 0
      },
      "text/plain": [
       "  0%|          | 0/1936 [00:00<?, ?it/s]"
      ]
     },
     "metadata": {},
     "output_type": "display_data"
    }
   ],
   "source": [
    "# iterature through files and run postprocessing\n",
    "standard_filepath = REPO_ROOT / \"results/heart_disease_minimal/claude_3_7_sonnet.json\" # o3, claude_3_7_sonnet. gpt4_1\n",
    "results = postprocessing(standard_filepath, force=True, distance_metric=\"gower\", save=True, explicit_dataset = \"\")"
   ]
  },
  {
   "cell_type": "code",
   "execution_count": 4,
   "metadata": {},
   "outputs": [
    {
     "name": "stdout",
     "output_type": "stream",
     "text": [
      "Extracted Dataset Name: income\n"
     ]
    },
    {
     "data": {
      "application/vnd.jupyter.widget-view+json": {
       "model_id": "e0e8b6cab5f34a149480fdb8fa30c240",
       "version_major": 2,
       "version_minor": 0
      },
      "text/plain": [
       "  0%|          | 0/1920 [00:00<?, ?it/s]"
      ]
     },
     "metadata": {},
     "output_type": "display_data"
    },
    {
     "name": "stdout",
     "output_type": "stream",
     "text": [
      "Extracted Dataset Name: income_minimal\n"
     ]
    },
    {
     "data": {
      "application/vnd.jupyter.widget-view+json": {
       "model_id": "8c2065a2574946cd9ca5536ba16dc8e3",
       "version_major": 2,
       "version_minor": 0
      },
      "text/plain": [
       "  0%|          | 0/1920 [00:00<?, ?it/s]"
      ]
     },
     "metadata": {},
     "output_type": "display_data"
    },
    {
     "name": "stdout",
     "output_type": "stream",
     "text": [
      "Extracted Dataset Name: house_prices\n"
     ]
    },
    {
     "data": {
      "application/vnd.jupyter.widget-view+json": {
       "model_id": "32f1a9784d034338b9698581873440a1",
       "version_major": 2,
       "version_minor": 0
      },
      "text/plain": [
       "  0%|          | 0/1600 [00:00<?, ?it/s]"
      ]
     },
     "metadata": {},
     "output_type": "display_data"
    },
    {
     "name": "stdout",
     "output_type": "stream",
     "text": [
      "Extracted Dataset Name: house_prices_minimal\n"
     ]
    },
    {
     "data": {
      "application/vnd.jupyter.widget-view+json": {
       "model_id": "e8b65d4018fd4be88b4ecbca24cd5bf8",
       "version_major": 2,
       "version_minor": 0
      },
      "text/plain": [
       "  0%|          | 0/1600 [00:00<?, ?it/s]"
      ]
     },
     "metadata": {},
     "output_type": "display_data"
    },
    {
     "name": "stdout",
     "output_type": "stream",
     "text": [
      "Extracted Dataset Name: heart_disease\n"
     ]
    },
    {
     "data": {
      "application/vnd.jupyter.widget-view+json": {
       "model_id": "117d60bbd87a45a884f7b9f418a6a3c2",
       "version_major": 2,
       "version_minor": 0
      },
      "text/plain": [
       "  0%|          | 0/1936 [00:00<?, ?it/s]"
      ]
     },
     "metadata": {},
     "output_type": "display_data"
    },
    {
     "name": "stdout",
     "output_type": "stream",
     "text": [
      "Extracted Dataset Name: heart_disease_minimal\n"
     ]
    },
    {
     "data": {
      "application/vnd.jupyter.widget-view+json": {
       "model_id": "83a9e523df704241965f4a11feaf535c",
       "version_major": 2,
       "version_minor": 0
      },
      "text/plain": [
       "  0%|          | 0/1936 [00:00<?, ?it/s]"
      ]
     },
     "metadata": {},
     "output_type": "display_data"
    }
   ],
   "source": [
    "datasets = [\"income\", \"income_minimal\", \"house_prices\", \"house_prices_minimal\", \"heart_disease\", \"heart_disease_minimal\"]\n",
    "for dataset in datasets:\n",
    "    standard_filepath = REPO_ROOT / f\"analysis/temperature_1/{dataset}/claude_3_7_sonnet.json\" # o3, claude_3_7_sonnet. gpt4_1\n",
    "    results = postprocessing(standard_filepath, force=True, distance_metric=\"gower\", save=True, explicit_dataset = \"\")"
   ]
  },
  {
   "cell_type": "markdown",
   "metadata": {},
   "source": [
    "## Scoring\n",
    "\n",
    "Score the results for specific models and datasets"
   ]
  },
  {
   "cell_type": "code",
   "execution_count": 3,
   "metadata": {},
   "outputs": [
    {
     "name": "stdout",
     "output_type": "stream",
     "text": [
      "\n",
      "\n",
      "----------------------------------------------------------------------------------------------------\n",
      "Generation Errors + Warnings:\n",
      "Original Answer Errors:\t\t 0\n",
      "Counterfactual Errors:\t\t 0\n",
      "Validation Answer Errors:\t 46\n",
      "Overall Errors (dropped):\t 46\n",
      "Short counterfactuals:\t\t 46. [2, 51, 89, 275, 352, 527, 561, 614, 702, 845, 876, 878, 1029, 1054, 1056, 1118, 1141, 1201, 1218, 1223, 1305, 1384, 1471, 1482, 1539, 1544, 1569, 1577, 1658, 1668, 1671, 1681, 1709, 1731, 1739, 1745, 1809, 1820, 1835, 1845, 1887, 1888, 1908, 1910, 1919, 1922]\n",
      "\n",
      "Key data:\n",
      "Filepath:\t\t\t\t /home/kebl7418/projects/counterfactuals/results/heart_disease_minimal/o3.json\n",
      "Sample size:\t\t\t 1890\n",
      "Validity:\t\t\t 31.75%\n",
      "\n",
      "Distance and Minimality:\n",
      "Mean intervention distance:\t 0.0459\n",
      "Mean RCF:\t\t\t 0.6397\n",
      "Median RCF:\t\t\t 0.0000\n",
      "Mean ICF:\t\t\t 0.7941\n",
      "Median ICF:\t\t\t 0.7143\n",
      "Total Minimality:\t\t 0.4875\n",
      "\n",
      "Absolutes:\n",
      "Mean RCF_A:\t\t\t 0.0210\n",
      "Median RCF_A:\t\t\t 0.0000\n",
      "Mean ICF_A:\t\t\t 0.0539\n",
      "Median ICF_A:\t\t\t 0.0500\n",
      "Total Minimality_A:\t\t 0.0435\n",
      "----------------------------------------------------------------------------------------------------\n",
      "Exact Match:\t\t\t 17.4603\n",
      "\n",
      "\n",
      "{'validity_percent': 31.746031746031743, 'mean_distance': np.float64(0.0458919120173921), 'mean_RCF': np.float64(0.6397125633432043), 'median_RCF': np.float64(0.0), 'mean_RCF_A': np.float64(0.020982142336045704), 'median_RCF_A': np.float64(0.0), 'mean_ICF': np.float64(0.794057747206719), 'median_ICF': np.float64(0.7142856610672822), 'mean_ICF_A': np.float64(0.05394795175295237), 'median_ICF_A': np.float64(0.05000000074505806), 'total_minimality': np.float64(0.4875283083475101), 'total_minimality_A': np.float64(0.043482615430124855), 'exact_match': 17.46031746031746}\n"
     ]
    }
   ],
   "source": [
    "scores = scoring_function(standard_filepath, verbose=1, overwrite=False)\n",
    "print(scores)"
   ]
  },
  {
   "cell_type": "markdown",
   "metadata": {},
   "source": [
    "#### Summary stats"
   ]
  },
  {
   "cell_type": "code",
   "execution_count": 4,
   "metadata": {},
   "outputs": [
    {
     "name": "stdout",
     "output_type": "stream",
     "text": [
      "Values (n=21):\n",
      "[ 0.    0.    0.15  3.33  0.    0.    6.89  0.06  0.05 19.7   0.19  0.42\n",
      "  9.95  0.    0.   15.7   0.    0.    4.27  0.    0.  ]\n",
      "\n",
      "Mean                 : 2.890952\n",
      "Population SD (σ)    : 5.499384\n",
      "Sample SD (s, unbiased): 5.635192\n"
     ]
    }
   ],
   "source": [
    "\"\"\"\n",
    "Compute the mean and standard deviation (population and sample)\n",
    "for the exact-match percentages reported in Table 2.\n",
    "\"\"\"\n",
    "\n",
    "# Table values: (Income, House prices, Heart disease) for each model\n",
    "values = [\n",
    "    0.00, 0.00, 0.15,   # Gemma 2 27B\n",
    "    3.33, 0.00, 0.00,   # Llama 3 3 70B\n",
    "    6.89, 0.06, 0.05,   # DeepSeek-R1 32B\n",
    "    19.70, 0.19, 0.42,  # DeepSeek-R1 70B\n",
    "    9.95, 0.00, 0.00,   # Claude Sonnet 3.7\n",
    "    15.70, 0.00, 0.00,  # GPT-4.1\n",
    "    4.27, 0.00, 0.00    # o3\n",
    "]\n",
    "\n",
    "# Convert to NumPy array (optional but convenient)\n",
    "arr = np.array(values)\n",
    "\n",
    "mean_val = np.mean(arr)\n",
    "std_population = np.std(arr, ddof=0)  # Population SD (N)\n",
    "std_sample = np.std(arr, ddof=1)      # Sample SD (N-1)\n",
    "\n",
    "print(f\"Values (n={len(arr)}):\\n{arr}\\n\")\n",
    "print(f\"Mean                 : {mean_val:.6f}\")\n",
    "print(f\"Population SD (σ)    : {std_population:.6f}\")\n",
    "print(f\"Sample SD (s, unbiased): {std_sample:.6f}\")\n"
   ]
  },
  {
   "cell_type": "markdown",
   "metadata": {},
   "source": [
    "#### o3"
   ]
  },
  {
   "cell_type": "code",
   "execution_count": 5,
   "metadata": {},
   "outputs": [
    {
     "data": {
      "text/plain": [
       "0.33832644628099173"
      ]
     },
     "execution_count": 5,
     "metadata": {},
     "output_type": "execute_result"
    }
   ],
   "source": [
    "456 # number of times it selected the max\n",
    "998 # number of times it originally predicted below\n",
    "# 46% 0.4569\n",
    "456/998\n",
    "\n",
    "# below...\n",
    "\n",
    "# 298, 930 #0.32043\n",
    "# 357, 1006\n",
    "(298+357)/(930+1006) # 33.83\n",
    " "
   ]
  },
  {
   "cell_type": "code",
   "execution_count": null,
   "metadata": {},
   "outputs": [],
   "source": []
  }
 ],
 "metadata": {
  "kernelspec": {
   "display_name": "counterfactuals",
   "language": "python",
   "name": "python3"
  },
  "language_info": {
   "codemirror_mode": {
    "name": "ipython",
    "version": 3
   },
   "file_extension": ".py",
   "mimetype": "text/x-python",
   "name": "python",
   "nbconvert_exporter": "python",
   "pygments_lexer": "ipython3",
   "version": "3.12.3"
  }
 },
 "nbformat": 4,
 "nbformat_minor": 2
}
