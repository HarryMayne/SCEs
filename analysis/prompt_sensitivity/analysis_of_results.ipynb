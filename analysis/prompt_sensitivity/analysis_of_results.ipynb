{
 "cells": [
  {
   "cell_type": "markdown",
   "metadata": {},
   "source": [
    "#### Analysis"
   ]
  },
  {
   "cell_type": "code",
   "execution_count": 1,
   "metadata": {},
   "outputs": [
    {
     "name": "stdout",
     "output_type": "stream",
     "text": [
      "INFO 07-14 13:48:38 [__init__.py:239] Automatically detected platform cuda.\n"
     ]
    }
   ],
   "source": [
    "import pandas as pd\n",
    "import numpy as np\n",
    "import os\n",
    "import sys\n",
    "import argparse\n",
    "import json\n",
    "import os\n",
    "import gc\n",
    "import warnings\n",
    "from typing import List, Dict, Any\n",
    "import time\n",
    "import torch\n",
    "from datasets import load_dataset, load_from_disk\n",
    "from tqdm import tqdm\n",
    "from vllm import LLM, SamplingParams\n",
    "import matplotlib.pyplot as plt\n",
    "from matplotlib.ticker import MultipleLocator\n",
    "import glob\n",
    "\n",
    "\n",
    "sys.path.insert(0, \"../../src/\")\n",
    "sys.path.insert(0, \"../..\")\n",
    "\n",
    "from config import REPO_ROOT\n",
    "from utils import postprocessing, scoring_function\n",
    "\n",
    "# Set up matplotlib\n",
    "%config InlineBackend.figure_format = 'svg'"
   ]
  },
  {
   "cell_type": "code",
   "execution_count": 2,
   "metadata": {},
   "outputs": [],
   "source": [
    "# 1. postprocess\n",
    "# 2. Read them all in\n",
    "# 3. plot on a scatter."
   ]
  },
  {
   "cell_type": "code",
   "execution_count": 3,
   "metadata": {},
   "outputs": [
    {
     "name": "stdout",
     "output_type": "stream",
     "text": [
      "Found 40 files to process\n",
      "Processing house_prices_0.json...\n",
      "Extracted Dataset Name: house_prices_0.json\n"
     ]
    },
    {
     "data": {
      "application/vnd.jupyter.widget-view+json": {
       "model_id": "5b13d3d1c03845df9622c0f819fff5fa",
       "version_major": 2,
       "version_minor": 0
      },
      "text/plain": [
       "  0%|          | 0/1600 [00:00<?, ?it/s]"
      ]
     },
     "metadata": {},
     "output_type": "display_data"
    },
    {
     "name": "stdout",
     "output_type": "stream",
     "text": [
      "  Validity: 100.00%, Mean RCF_A: 0.3914\n",
      "Processing house_prices_1.json...\n",
      "Extracted Dataset Name: house_prices_1.json\n"
     ]
    },
    {
     "data": {
      "application/vnd.jupyter.widget-view+json": {
       "model_id": "6480b80a12b545f7bcaaedda81ea0139",
       "version_major": 2,
       "version_minor": 0
      },
      "text/plain": [
       "  0%|          | 0/1600 [00:00<?, ?it/s]"
      ]
     },
     "metadata": {},
     "output_type": "display_data"
    },
    {
     "name": "stdout",
     "output_type": "stream",
     "text": [
      "  Validity: 100.00%, Mean RCF_A: 0.4148\n",
      "Processing house_prices_10.json...\n",
      "Extracted Dataset Name: house_prices_10.json\n"
     ]
    },
    {
     "data": {
      "application/vnd.jupyter.widget-view+json": {
       "model_id": "f77908418a76447aa4d561084789a2ed",
       "version_major": 2,
       "version_minor": 0
      },
      "text/plain": [
       "  0%|          | 0/1600 [00:00<?, ?it/s]"
      ]
     },
     "metadata": {},
     "output_type": "display_data"
    },
    {
     "name": "stdout",
     "output_type": "stream",
     "text": [
      "  Validity: 100.00%, Mean RCF_A: 0.4114\n",
      "Processing house_prices_11.json...\n",
      "Extracted Dataset Name: house_prices_11.json\n"
     ]
    },
    {
     "data": {
      "application/vnd.jupyter.widget-view+json": {
       "model_id": "1c0389e597124ce6b9d55ae7d9f90669",
       "version_major": 2,
       "version_minor": 0
      },
      "text/plain": [
       "  0%|          | 0/1600 [00:00<?, ?it/s]"
      ]
     },
     "metadata": {},
     "output_type": "display_data"
    },
    {
     "name": "stdout",
     "output_type": "stream",
     "text": [
      "  Validity: 100.00%, Mean RCF_A: 0.3787\n",
      "Processing house_prices_12.json...\n",
      "Extracted Dataset Name: house_prices_12.json\n"
     ]
    },
    {
     "data": {
      "application/vnd.jupyter.widget-view+json": {
       "model_id": "6c694b78e1e74f758e065e1a476b25e7",
       "version_major": 2,
       "version_minor": 0
      },
      "text/plain": [
       "  0%|          | 0/1600 [00:00<?, ?it/s]"
      ]
     },
     "metadata": {},
     "output_type": "display_data"
    },
    {
     "name": "stdout",
     "output_type": "stream",
     "text": [
      "  Validity: 100.00%, Mean RCF_A: 0.4216\n",
      "Processing house_prices_13.json...\n",
      "Extracted Dataset Name: house_prices_13.json\n"
     ]
    },
    {
     "data": {
      "application/vnd.jupyter.widget-view+json": {
       "model_id": "98854a1d630940a3a596a30feb23142d",
       "version_major": 2,
       "version_minor": 0
      },
      "text/plain": [
       "  0%|          | 0/1600 [00:00<?, ?it/s]"
      ]
     },
     "metadata": {},
     "output_type": "display_data"
    },
    {
     "name": "stdout",
     "output_type": "stream",
     "text": [
      "  Validity: 100.00%, Mean RCF_A: 0.4071\n",
      "Processing house_prices_14.json...\n",
      "Extracted Dataset Name: house_prices_14.json\n"
     ]
    },
    {
     "data": {
      "application/vnd.jupyter.widget-view+json": {
       "model_id": "7348ab95902b45cc8efb2ba3608ad709",
       "version_major": 2,
       "version_minor": 0
      },
      "text/plain": [
       "  0%|          | 0/1600 [00:00<?, ?it/s]"
      ]
     },
     "metadata": {},
     "output_type": "display_data"
    },
    {
     "name": "stdout",
     "output_type": "stream",
     "text": [
      "  Validity: 100.00%, Mean RCF_A: 0.4240\n",
      "Processing house_prices_15.json...\n",
      "Extracted Dataset Name: house_prices_15.json\n"
     ]
    },
    {
     "data": {
      "application/vnd.jupyter.widget-view+json": {
       "model_id": "7056d1436f1f47e5bdd19446aff96e25",
       "version_major": 2,
       "version_minor": 0
      },
      "text/plain": [
       "  0%|          | 0/1600 [00:00<?, ?it/s]"
      ]
     },
     "metadata": {},
     "output_type": "display_data"
    },
    {
     "name": "stdout",
     "output_type": "stream",
     "text": [
      "  Validity: 100.00%, Mean RCF_A: 0.3996\n",
      "Processing house_prices_16.json...\n",
      "Extracted Dataset Name: house_prices_16.json\n"
     ]
    },
    {
     "data": {
      "application/vnd.jupyter.widget-view+json": {
       "model_id": "94fb05eeae73452ab672b93781009633",
       "version_major": 2,
       "version_minor": 0
      },
      "text/plain": [
       "  0%|          | 0/1600 [00:00<?, ?it/s]"
      ]
     },
     "metadata": {},
     "output_type": "display_data"
    },
    {
     "name": "stdout",
     "output_type": "stream",
     "text": [
      "  Validity: 100.00%, Mean RCF_A: 0.4119\n",
      "Processing house_prices_17.json...\n",
      "Extracted Dataset Name: house_prices_17.json\n"
     ]
    },
    {
     "data": {
      "application/vnd.jupyter.widget-view+json": {
       "model_id": "032a4a2df27d4e6ea407bcfd31836577",
       "version_major": 2,
       "version_minor": 0
      },
      "text/plain": [
       "  0%|          | 0/1600 [00:00<?, ?it/s]"
      ]
     },
     "metadata": {},
     "output_type": "display_data"
    },
    {
     "name": "stdout",
     "output_type": "stream",
     "text": [
      "  Validity: 100.00%, Mean RCF_A: 0.4133\n",
      "Processing house_prices_18.json...\n",
      "Extracted Dataset Name: house_prices_18.json\n"
     ]
    },
    {
     "data": {
      "application/vnd.jupyter.widget-view+json": {
       "model_id": "702c2a15189d4ebd8199efbb00f67993",
       "version_major": 2,
       "version_minor": 0
      },
      "text/plain": [
       "  0%|          | 0/1600 [00:00<?, ?it/s]"
      ]
     },
     "metadata": {},
     "output_type": "display_data"
    },
    {
     "name": "stdout",
     "output_type": "stream",
     "text": [
      "  Validity: 100.00%, Mean RCF_A: 0.4160\n",
      "Processing house_prices_19.json...\n",
      "Extracted Dataset Name: house_prices_19.json\n"
     ]
    },
    {
     "data": {
      "application/vnd.jupyter.widget-view+json": {
       "model_id": "2a50a1534aa042e39111bf1f3c06930a",
       "version_major": 2,
       "version_minor": 0
      },
      "text/plain": [
       "  0%|          | 0/1600 [00:00<?, ?it/s]"
      ]
     },
     "metadata": {},
     "output_type": "display_data"
    },
    {
     "name": "stdout",
     "output_type": "stream",
     "text": [
      "  Validity: 100.00%, Mean RCF_A: 0.4256\n",
      "Processing house_prices_2.json...\n",
      "Extracted Dataset Name: house_prices_2.json\n"
     ]
    },
    {
     "data": {
      "application/vnd.jupyter.widget-view+json": {
       "model_id": "26899c7d999145b18e29dc800fb6894f",
       "version_major": 2,
       "version_minor": 0
      },
      "text/plain": [
       "  0%|          | 0/1600 [00:00<?, ?it/s]"
      ]
     },
     "metadata": {},
     "output_type": "display_data"
    },
    {
     "name": "stdout",
     "output_type": "stream",
     "text": [
      "  Validity: 100.00%, Mean RCF_A: 0.4137\n",
      "Processing house_prices_3.json...\n",
      "Extracted Dataset Name: house_prices_3.json\n"
     ]
    },
    {
     "data": {
      "application/vnd.jupyter.widget-view+json": {
       "model_id": "476e18b2835e4fe09c30aca7dbdebd82",
       "version_major": 2,
       "version_minor": 0
      },
      "text/plain": [
       "  0%|          | 0/1600 [00:00<?, ?it/s]"
      ]
     },
     "metadata": {},
     "output_type": "display_data"
    },
    {
     "name": "stdout",
     "output_type": "stream",
     "text": [
      "  Validity: 100.00%, Mean RCF_A: 0.4150\n",
      "Processing house_prices_4.json...\n",
      "Extracted Dataset Name: house_prices_4.json\n"
     ]
    },
    {
     "data": {
      "application/vnd.jupyter.widget-view+json": {
       "model_id": "e6d890a5dbe0470091f66b3fdcf318fa",
       "version_major": 2,
       "version_minor": 0
      },
      "text/plain": [
       "  0%|          | 0/1600 [00:00<?, ?it/s]"
      ]
     },
     "metadata": {},
     "output_type": "display_data"
    },
    {
     "name": "stdout",
     "output_type": "stream",
     "text": [
      "  Validity: 100.00%, Mean RCF_A: 0.4072\n",
      "Processing house_prices_5.json...\n",
      "Extracted Dataset Name: house_prices_5.json\n"
     ]
    },
    {
     "data": {
      "application/vnd.jupyter.widget-view+json": {
       "model_id": "3a294e51d3ce4336b2afb3e16f8cfdf3",
       "version_major": 2,
       "version_minor": 0
      },
      "text/plain": [
       "  0%|          | 0/1600 [00:00<?, ?it/s]"
      ]
     },
     "metadata": {},
     "output_type": "display_data"
    },
    {
     "name": "stdout",
     "output_type": "stream",
     "text": [
      "  Validity: 100.00%, Mean RCF_A: 0.4248\n",
      "Processing house_prices_6.json...\n",
      "Extracted Dataset Name: house_prices_6.json\n"
     ]
    },
    {
     "data": {
      "application/vnd.jupyter.widget-view+json": {
       "model_id": "bc90f6d26f8f4f9596ad74170756eacf",
       "version_major": 2,
       "version_minor": 0
      },
      "text/plain": [
       "  0%|          | 0/1600 [00:00<?, ?it/s]"
      ]
     },
     "metadata": {},
     "output_type": "display_data"
    },
    {
     "name": "stdout",
     "output_type": "stream",
     "text": [
      "  Validity: 100.00%, Mean RCF_A: 0.4693\n",
      "Processing house_prices_7.json...\n",
      "Extracted Dataset Name: house_prices_7.json\n"
     ]
    },
    {
     "data": {
      "application/vnd.jupyter.widget-view+json": {
       "model_id": "0d3003282de04bbebddd38fa67096573",
       "version_major": 2,
       "version_minor": 0
      },
      "text/plain": [
       "  0%|          | 0/1600 [00:00<?, ?it/s]"
      ]
     },
     "metadata": {},
     "output_type": "display_data"
    },
    {
     "name": "stdout",
     "output_type": "stream",
     "text": [
      "  Validity: 100.00%, Mean RCF_A: 0.4164\n",
      "Processing house_prices_8.json...\n",
      "Extracted Dataset Name: house_prices_8.json\n"
     ]
    },
    {
     "data": {
      "application/vnd.jupyter.widget-view+json": {
       "model_id": "2b4cd7cada2543b9a97bcb0d6e913475",
       "version_major": 2,
       "version_minor": 0
      },
      "text/plain": [
       "  0%|          | 0/1600 [00:00<?, ?it/s]"
      ]
     },
     "metadata": {},
     "output_type": "display_data"
    },
    {
     "name": "stdout",
     "output_type": "stream",
     "text": [
      "  Validity: 100.00%, Mean RCF_A: 0.4166\n",
      "Processing house_prices_9.json...\n",
      "Extracted Dataset Name: house_prices_9.json\n"
     ]
    },
    {
     "data": {
      "application/vnd.jupyter.widget-view+json": {
       "model_id": "cc7187f940ad4ddc86bfd57145bf565d",
       "version_major": 2,
       "version_minor": 0
      },
      "text/plain": [
       "  0%|          | 0/1600 [00:00<?, ?it/s]"
      ]
     },
     "metadata": {},
     "output_type": "display_data"
    },
    {
     "name": "stdout",
     "output_type": "stream",
     "text": [
      "  Validity: 100.00%, Mean RCF_A: 0.4149\n",
      "Processing house_prices_minimal_0.json...\n",
      "Extracted Dataset Name: house_prices_minimal_0.json\n"
     ]
    },
    {
     "data": {
      "application/vnd.jupyter.widget-view+json": {
       "model_id": "77ed87b42ef24de7ac4824f981c4a7aa",
       "version_major": 2,
       "version_minor": 0
      },
      "text/plain": [
       "  0%|          | 0/1600 [00:00<?, ?it/s]"
      ]
     },
     "metadata": {},
     "output_type": "display_data"
    },
    {
     "name": "stdout",
     "output_type": "stream",
     "text": [
      "  Validity: 9.88%, Mean RCF_A: 0.0007\n",
      "Processing house_prices_minimal_1.json...\n",
      "Extracted Dataset Name: house_prices_minimal_1.json\n"
     ]
    },
    {
     "data": {
      "application/vnd.jupyter.widget-view+json": {
       "model_id": "599309df7644455ca67f29316b80c0b6",
       "version_major": 2,
       "version_minor": 0
      },
      "text/plain": [
       "  0%|          | 0/1600 [00:00<?, ?it/s]"
      ]
     },
     "metadata": {},
     "output_type": "display_data"
    },
    {
     "name": "stdout",
     "output_type": "stream",
     "text": [
      "  Validity: 9.12%, Mean RCF_A: 0.0000\n",
      "Processing house_prices_minimal_10.json...\n",
      "Extracted Dataset Name: house_prices_minimal_10.json\n"
     ]
    },
    {
     "data": {
      "application/vnd.jupyter.widget-view+json": {
       "model_id": "54da74a1e2c3452c968841634cc5edbe",
       "version_major": 2,
       "version_minor": 0
      },
      "text/plain": [
       "  0%|          | 0/1600 [00:00<?, ?it/s]"
      ]
     },
     "metadata": {},
     "output_type": "display_data"
    },
    {
     "name": "stdout",
     "output_type": "stream",
     "text": [
      "  Validity: 9.62%, Mean RCF_A: 0.0029\n",
      "Processing house_prices_minimal_11.json...\n",
      "Extracted Dataset Name: house_prices_minimal_11.json\n"
     ]
    },
    {
     "data": {
      "application/vnd.jupyter.widget-view+json": {
       "model_id": "70fcd7cb920b4209832ae7adbe8776f7",
       "version_major": 2,
       "version_minor": 0
      },
      "text/plain": [
       "  0%|          | 0/1600 [00:00<?, ?it/s]"
      ]
     },
     "metadata": {},
     "output_type": "display_data"
    },
    {
     "name": "stdout",
     "output_type": "stream",
     "text": [
      "  Validity: 13.25%, Mean RCF_A: 0.0761\n",
      "Processing house_prices_minimal_12.json...\n",
      "Extracted Dataset Name: house_prices_minimal_12.json\n"
     ]
    },
    {
     "data": {
      "application/vnd.jupyter.widget-view+json": {
       "model_id": "6e2106b09ac84f0db9595f27e4932b52",
       "version_major": 2,
       "version_minor": 0
      },
      "text/plain": [
       "  0%|          | 0/1600 [00:00<?, ?it/s]"
      ]
     },
     "metadata": {},
     "output_type": "display_data"
    },
    {
     "name": "stdout",
     "output_type": "stream",
     "text": [
      "  Validity: 9.75%, Mean RCF_A: 0.0037\n",
      "Processing house_prices_minimal_13.json...\n",
      "Extracted Dataset Name: house_prices_minimal_13.json\n"
     ]
    },
    {
     "data": {
      "application/vnd.jupyter.widget-view+json": {
       "model_id": "a1dffcc90a8049fa8fb2040349ceee07",
       "version_major": 2,
       "version_minor": 0
      },
      "text/plain": [
       "  0%|          | 0/1600 [00:00<?, ?it/s]"
      ]
     },
     "metadata": {},
     "output_type": "display_data"
    },
    {
     "name": "stdout",
     "output_type": "stream",
     "text": [
      "  Validity: 10.75%, Mean RCF_A: 0.0121\n",
      "Processing house_prices_minimal_14.json...\n",
      "Extracted Dataset Name: house_prices_minimal_14.json\n"
     ]
    },
    {
     "data": {
      "application/vnd.jupyter.widget-view+json": {
       "model_id": "662ed1ed17e94112b8f15eeed69cac28",
       "version_major": 2,
       "version_minor": 0
      },
      "text/plain": [
       "  0%|          | 0/1600 [00:00<?, ?it/s]"
      ]
     },
     "metadata": {},
     "output_type": "display_data"
    },
    {
     "name": "stdout",
     "output_type": "stream",
     "text": [
      "  Validity: 10.81%, Mean RCF_A: 0.0083\n",
      "Processing house_prices_minimal_15.json...\n",
      "Extracted Dataset Name: house_prices_minimal_15.json\n"
     ]
    },
    {
     "data": {
      "application/vnd.jupyter.widget-view+json": {
       "model_id": "23d097847ede4178a48163f9bf8bb2cf",
       "version_major": 2,
       "version_minor": 0
      },
      "text/plain": [
       "  0%|          | 0/1600 [00:00<?, ?it/s]"
      ]
     },
     "metadata": {},
     "output_type": "display_data"
    },
    {
     "name": "stdout",
     "output_type": "stream",
     "text": [
      "  Validity: 10.25%, Mean RCF_A: 0.0304\n",
      "Processing house_prices_minimal_16.json...\n",
      "Extracted Dataset Name: house_prices_minimal_16.json\n"
     ]
    },
    {
     "data": {
      "application/vnd.jupyter.widget-view+json": {
       "model_id": "b7ac735b4c1f41ac91fd6da1e6b055a1",
       "version_major": 2,
       "version_minor": 0
      },
      "text/plain": [
       "  0%|          | 0/1600 [00:00<?, ?it/s]"
      ]
     },
     "metadata": {},
     "output_type": "display_data"
    },
    {
     "name": "stdout",
     "output_type": "stream",
     "text": [
      "  Validity: 10.31%, Mean RCF_A: 0.0030\n",
      "Processing house_prices_minimal_17.json...\n",
      "Extracted Dataset Name: house_prices_minimal_17.json\n"
     ]
    },
    {
     "data": {
      "application/vnd.jupyter.widget-view+json": {
       "model_id": "8740f71ff9a344f9bcc07b911c5d00ab",
       "version_major": 2,
       "version_minor": 0
      },
      "text/plain": [
       "  0%|          | 0/1600 [00:00<?, ?it/s]"
      ]
     },
     "metadata": {},
     "output_type": "display_data"
    },
    {
     "name": "stdout",
     "output_type": "stream",
     "text": [
      "  Validity: 10.94%, Mean RCF_A: 0.0159\n",
      "Processing house_prices_minimal_18.json...\n",
      "Extracted Dataset Name: house_prices_minimal_18.json\n"
     ]
    },
    {
     "data": {
      "application/vnd.jupyter.widget-view+json": {
       "model_id": "a312deede17f4d428b4d738fa70ac9d6",
       "version_major": 2,
       "version_minor": 0
      },
      "text/plain": [
       "  0%|          | 0/1600 [00:00<?, ?it/s]"
      ]
     },
     "metadata": {},
     "output_type": "display_data"
    },
    {
     "name": "stdout",
     "output_type": "stream",
     "text": [
      "  Validity: 10.38%, Mean RCF_A: 0.0064\n",
      "Processing house_prices_minimal_19.json...\n",
      "Extracted Dataset Name: house_prices_minimal_19.json\n"
     ]
    },
    {
     "data": {
      "application/vnd.jupyter.widget-view+json": {
       "model_id": "a0a752d7de6c44cdab927be990c2117f",
       "version_major": 2,
       "version_minor": 0
      },
      "text/plain": [
       "  0%|          | 0/1600 [00:00<?, ?it/s]"
      ]
     },
     "metadata": {},
     "output_type": "display_data"
    },
    {
     "name": "stdout",
     "output_type": "stream",
     "text": [
      "  Validity: 9.81%, Mean RCF_A: 0.0001\n",
      "Processing house_prices_minimal_2.json...\n",
      "Extracted Dataset Name: house_prices_minimal_2.json\n"
     ]
    },
    {
     "data": {
      "application/vnd.jupyter.widget-view+json": {
       "model_id": "49cf75d306094218b55966dd5864b834",
       "version_major": 2,
       "version_minor": 0
      },
      "text/plain": [
       "  0%|          | 0/1600 [00:00<?, ?it/s]"
      ]
     },
     "metadata": {},
     "output_type": "display_data"
    },
    {
     "name": "stdout",
     "output_type": "stream",
     "text": [
      "  Validity: 11.88%, Mean RCF_A: 0.0116\n",
      "Processing house_prices_minimal_3.json...\n",
      "Extracted Dataset Name: house_prices_minimal_3.json\n"
     ]
    },
    {
     "data": {
      "application/vnd.jupyter.widget-view+json": {
       "model_id": "686cb7d05c054d86ad326def0cbd6f7a",
       "version_major": 2,
       "version_minor": 0
      },
      "text/plain": [
       "  0%|          | 0/1600 [00:00<?, ?it/s]"
      ]
     },
     "metadata": {},
     "output_type": "display_data"
    },
    {
     "name": "stdout",
     "output_type": "stream",
     "text": [
      "  Validity: 11.12%, Mean RCF_A: 0.0345\n",
      "Processing house_prices_minimal_4.json...\n",
      "Extracted Dataset Name: house_prices_minimal_4.json\n"
     ]
    },
    {
     "data": {
      "application/vnd.jupyter.widget-view+json": {
       "model_id": "e3094094c2fe42c5b708e1aaff23a023",
       "version_major": 2,
       "version_minor": 0
      },
      "text/plain": [
       "  0%|          | 0/1600 [00:00<?, ?it/s]"
      ]
     },
     "metadata": {},
     "output_type": "display_data"
    },
    {
     "name": "stdout",
     "output_type": "stream",
     "text": [
      "  Validity: 10.88%, Mean RCF_A: 0.0047\n",
      "Processing house_prices_minimal_5.json...\n",
      "Extracted Dataset Name: house_prices_minimal_5.json\n"
     ]
    },
    {
     "data": {
      "application/vnd.jupyter.widget-view+json": {
       "model_id": "a3a4787da2bf48129993c465d6d9a7b6",
       "version_major": 2,
       "version_minor": 0
      },
      "text/plain": [
       "  0%|          | 0/1600 [00:00<?, ?it/s]"
      ]
     },
     "metadata": {},
     "output_type": "display_data"
    },
    {
     "name": "stdout",
     "output_type": "stream",
     "text": [
      "  Validity: 10.07%, Mean RCF_A: 0.0039\n",
      "Processing house_prices_minimal_6.json...\n",
      "Extracted Dataset Name: house_prices_minimal_6.json\n"
     ]
    },
    {
     "data": {
      "application/vnd.jupyter.widget-view+json": {
       "model_id": "2a2336ec0d304504819f9b7da1c0e6a7",
       "version_major": 2,
       "version_minor": 0
      },
      "text/plain": [
       "  0%|          | 0/1600 [00:00<?, ?it/s]"
      ]
     },
     "metadata": {},
     "output_type": "display_data"
    },
    {
     "name": "stdout",
     "output_type": "stream",
     "text": [
      "  Validity: 13.88%, Mean RCF_A: 0.0560\n",
      "Processing house_prices_minimal_7.json...\n",
      "Extracted Dataset Name: house_prices_minimal_7.json\n"
     ]
    },
    {
     "data": {
      "application/vnd.jupyter.widget-view+json": {
       "model_id": "86ebcebad1ed4049944b8eceba7e532b",
       "version_major": 2,
       "version_minor": 0
      },
      "text/plain": [
       "  0%|          | 0/1600 [00:00<?, ?it/s]"
      ]
     },
     "metadata": {},
     "output_type": "display_data"
    },
    {
     "name": "stdout",
     "output_type": "stream",
     "text": [
      "  Validity: 13.20%, Mean RCF_A: 0.0828\n",
      "Processing house_prices_minimal_8.json...\n",
      "Extracted Dataset Name: house_prices_minimal_8.json\n"
     ]
    },
    {
     "data": {
      "application/vnd.jupyter.widget-view+json": {
       "model_id": "a0f3bca68c3848e28885e76fc182d488",
       "version_major": 2,
       "version_minor": 0
      },
      "text/plain": [
       "  0%|          | 0/1600 [00:00<?, ?it/s]"
      ]
     },
     "metadata": {},
     "output_type": "display_data"
    },
    {
     "name": "stdout",
     "output_type": "stream",
     "text": [
      "  Validity: 21.31%, Mean RCF_A: 0.1567\n",
      "Processing house_prices_minimal_9.json...\n",
      "Extracted Dataset Name: house_prices_minimal_9.json\n"
     ]
    },
    {
     "data": {
      "application/vnd.jupyter.widget-view+json": {
       "model_id": "1ebebdc1fed64a658aece006a1180c2c",
       "version_major": 2,
       "version_minor": 0
      },
      "text/plain": [
       "  0%|          | 0/1600 [00:00<?, ?it/s]"
      ]
     },
     "metadata": {},
     "output_type": "display_data"
    },
    {
     "name": "stdout",
     "output_type": "stream",
     "text": [
      "  Validity: 9.69%, Mean RCF_A: 0.0023\n",
      "\n",
      "Successfully processed 40 files\n",
      "               filename  validity_percent  mean_RCF_A  is_minimal  \\\n",
      "0   house_prices_0.json             100.0    0.391430       False   \n",
      "1   house_prices_1.json             100.0    0.414843       False   \n",
      "2  house_prices_10.json             100.0    0.411387       False   \n",
      "3  house_prices_11.json             100.0    0.378670       False   \n",
      "4  house_prices_12.json             100.0    0.421562       False   \n",
      "\n",
      "  perturbation_id  \n",
      "0               0  \n",
      "1               1  \n",
      "2              10  \n",
      "3              11  \n",
      "4              12  \n"
     ]
    }
   ],
   "source": [
    "# Process all house price results files\n",
    "results_dir = REPO_ROOT / \"analysis/prompt_sensitivity/results\"\n",
    "all_files = glob.glob(str(results_dir / \"house_prices_*.json\"))\n",
    "\n",
    "print(f\"Found {len(all_files)} files to process\")\n",
    "\n",
    "# Process each file\n",
    "processed_results = []\n",
    "for filepath in sorted(all_files):\n",
    "    filename = os.path.basename(filepath)\n",
    "    print(f\"Processing {filename}...\")\n",
    "    \n",
    "    try:\n",
    "        # Run postprocessing first\n",
    "        postprocessing_result = postprocessing(filepath, force=True, distance_metric=\"gower\", save=True, explicit_dataset=\"\")\n",
    "        \n",
    "        # Then run scoring\n",
    "        scores = scoring_function(filepath, verbose=0, overwrite=False)\n",
    "        \n",
    "        # Extract key metrics\n",
    "        result = {\n",
    "            'filename': filename,\n",
    "            'validity_percent': scores['validity_percent'],\n",
    "            'mean_RCF_A': scores['mean_RCF_A'],\n",
    "            'is_minimal': 'minimal' in filename,\n",
    "            'perturbation_id': filename.split('_')[-1].replace('.json', '')\n",
    "        }\n",
    "        \n",
    "        processed_results.append(result)\n",
    "        print(f\"  Validity: {result['validity_percent']:.2f}%, Mean RCF_A: {result['mean_RCF_A']:.4f}\")\n",
    "        \n",
    "    except Exception as e:\n",
    "        print(f\"  Error processing {filename}: {str(e)}\")\n",
    "        continue\n",
    "\n",
    "print(f\"\\nSuccessfully processed {len(processed_results)} files\")\n",
    "df_results = pd.DataFrame(processed_results)\n",
    "print(df_results.head())"
   ]
  },
  {
   "cell_type": "code",
   "execution_count": 4,
   "metadata": {},
   "outputs": [
    {
     "ename": "NameError",
     "evalue": "name 'models' is not defined",
     "output_type": "error",
     "traceback": [
      "\u001b[31m---------------------------------------------------------------------------\u001b[39m",
      "\u001b[31mNameError\u001b[39m                                 Traceback (most recent call last)",
      "\u001b[36mCell\u001b[39m\u001b[36m \u001b[39m\u001b[32mIn[4]\u001b[39m\u001b[32m, line 10\u001b[39m\n\u001b[32m      7\u001b[39m draw_pair_lines = \u001b[38;5;28;01mFalse\u001b[39;00m         \u001b[38;5;66;03m# dotted lines between standard & minimal points?\u001b[39;00m\n\u001b[32m      9\u001b[39m \u001b[38;5;66;03m# Individual annotation offsets, in points (dx, dy) -----------------------------\u001b[39;00m\n\u001b[32m---> \u001b[39m\u001b[32m10\u001b[39m offsets_std = [(\u001b[32m0\u001b[39m,\u001b[32m0\u001b[39m)]*\u001b[38;5;28mlen\u001b[39m(\u001b[43mmodels\u001b[49m)\n\u001b[32m     11\u001b[39m offsets_min = [(\u001b[32m0\u001b[39m,\u001b[32m0\u001b[39m)]*\u001b[38;5;28mlen\u001b[39m(models)\n\u001b[32m     12\u001b[39m \u001b[38;5;66;03m# ────────────────────────────────────────────────────────────\u001b[39;00m\n",
      "\u001b[31mNameError\u001b[39m: name 'models' is not defined"
     ]
    }
   ],
   "source": [
    "import matplotlib.pyplot as plt\n",
    "import numpy as np\n",
    "from matplotlib.ticker import MultipleLocator\n",
    "\n",
    "# ────────────────────────────────────────────────────────────\n",
    "# USER‑TUNABLE PARAMETERS\n",
    "draw_pair_lines = False         # dotted lines between standard & minimal points?\n",
    "\n",
    "# Individual annotation offsets, in points (dx, dy) -----------------------------\n",
    "offsets_std = [(0,0)]*len(models)\n",
    "offsets_min = [(0,0)]*len(models)\n",
    "# ────────────────────────────────────────────────────────────\n",
    "\n",
    "min_std = []\n",
    "val_std = []\n",
    "min_min = []\n",
    "val_min = []\n",
    "\n",
    "for model in models:\n",
    "    results_std = scoring_function(filepath_temp / f'income/{model}.json', overwrite=False, verbose=0, detail=False)\n",
    "    results_min = scoring_function(filepath_temp / f'income_minimal/{model}.json', overwrite=False, verbose=0, detail=False)\n",
    "    print(f\"\\n\\n{model}\")\n",
    "    print(f\"Unconstrained Validity: {results_std['validity_percent']}\")\n",
    "    print(f\"Unconstrained AM: {results_std[f'{metric}_RCF{app}']}\")\n",
    "    print(f\"Minimal Validity: {results_min['validity_percent']}\")\n",
    "    print(f\"Minimal AM: {results_min[f'{metric}_RCF{app}']}\")\n",
    "    \n",
    "    min_std.append(results_std[f'{metric}_RCF{app}'])\n",
    "    val_std.append(results_std['validity_percent'])\n",
    "    min_min.append(results_min[f'{metric}_RCF{app}'])\n",
    "    val_min.append(results_min['validity_percent'])\n",
    "\n",
    "# ────────────────────────────────────────────────────────────\n",
    "# Figure setup\n",
    "fig, ax = plt.subplots(figsize=(4, 4), dpi=150,zorder=0)\n",
    "\n",
    "# Subtle grid & minimalist spines ----------------------------------------------\n",
    "ax.set_axisbelow(True)\n",
    "# Major grid (0.5 steps)\n",
    "# ax.grid(which='major', linestyle='--', linewidth=0.5, alpha=0.6)\n",
    "# # Minor grid (0.25 steps for finer guidance, lighter)\n",
    "# ax.grid(which='minor', linestyle=':', linewidth=0.4, alpha=0.3)\n",
    "\n",
    "for spine in ['top', 'right']:\n",
    "    spine_obj = ax.spines[spine]\n",
    "    spine_obj.set_visible(False)\n",
    "\n",
    "ax.spines['left'].set_zorder(0)\n",
    "ax.spines['bottom'].set_zorder(1)\n",
    "\n",
    "# Scatter plots ----------------------------------------------------------------\n",
    "std_plot = ax.scatter(min_std, val_std, label='Standard',\n",
    "                      marker='o', s=_size, color=colour_1, linewidth=0.5, zorder=4, clip_on=False, alpha=_alpha)\n",
    "\n",
    "min_plot = ax.scatter(min_min, val_min, label='Minimal',\n",
    "                      marker='o', s=_size, color=colour_2, linewidth=0.5, zorder=10, clip_on=False, alpha=_alpha)\n",
    "\n",
    "if annotation == True:\n",
    "    # Annotate points --------------------------------------------------------------\n",
    "    for idx, model in enumerate(models):\n",
    "        ax.annotate(clean_name.get(model, model),\n",
    "                    (min_std[idx], val_std[idx]),\n",
    "                    xytext=offsets_std[idx],\n",
    "                    textcoords='offset points',\n",
    "                    fontsize=8)\n",
    "\n",
    "    for idx, model in enumerate(models):\n",
    "        ax.annotate(clean_name.get(model, model),\n",
    "                    (min_min[idx], val_min[idx]),\n",
    "                    xytext=offsets_min[idx],\n",
    "                    textcoords='offset points',\n",
    "                    fontsize=8)\n",
    "\n",
    "# Axis configuration -----------------------------------------------------------\n",
    "#ax.set_xlabel('Relative Counterfactual Distance', fontsize=9)\n",
    "#ax.set_ylabel('Validity (%)', fontsize=9)\n",
    "\n",
    "# X‑axis ticks every 0.5; minor ticks every 0.25\n",
    "\n",
    "ax.set_xlim(_x_lim_min, max)\n",
    "\n",
    "# put a major tick every 0.5 (or whatever spacing you want)\n",
    "# ax.xaxis.set_major_locator(MultipleLocator(0.05))\n",
    "#ax.xaxis.set_major_formatter(FormatStrFormatter('%.1f'))\n",
    "\n",
    "\n",
    "\n",
    "# Y‑axis\n",
    "ax.set_ylim(0, 102)\n",
    "# ax.set_yticks(np.arange(0, 101, 20))\n",
    "# ax.tick_params(axis='y', labelsize=_axis_size)\n",
    "# ax.tick_params(axis='x', labelsize=_axis_size)\n",
    "\n",
    "\n",
    "\n",
    "\n",
    "# ----------------------------------------------------------\n",
    "# Highlight region (Minimal & Valid) -----------------------\n",
    "# tri_x = [0, 0, 0.08]\n",
    "# tri_y = [85, 100, 100]\n",
    "\n",
    "# ax.fill(tri_x, tri_y, facecolor='#FDAE61', alpha=0.35, zorder=1)\n",
    "# ax.plot(tri_x + [tri_x[0]],\n",
    "#         tri_y + [tri_y[0]],\n",
    "#         linestyle=':',\n",
    "#         linewidth=0.75,\n",
    "#         color='darkorange',\n",
    "#         zorder=1)\n",
    "\n",
    "# ax.text(0.0025, 94.5, 'Minimal\\n& Valid',\n",
    "#         fontsize=10, color='orangered', ha='left', va='center', zorder=20)\n",
    "\n",
    "# # Legend -----------------------------------------------------------------------\n",
    "# legend = ax.legend(frameon=True, fontsize=8, loc='lower right')\n",
    "# plt.setp(legend.get_title(), fontsize=8)\n",
    "\n",
    "\n",
    "\n",
    "#### TOGGLE ON AND OFF\n",
    "ax.set_xticklabels([])   # remove x tick-label text\n",
    "ax.set_yticklabels([])   # remove y tick-label text\n",
    "\n",
    "\n",
    "plt.savefig(REPO_ROOT / f\"figures/scatter_income_{temp}.png\", bbox_inches='tight', dpi=600)\n",
    "plt.tight_layout()\n",
    "plt.show()"
   ]
  },
  {
   "cell_type": "code",
   "execution_count": 22,
   "metadata": {},
   "outputs": [
    {
     "name": "stdout",
     "output_type": "stream",
     "text": [
      "Standard results: 20\n",
      "Minimal results: 20\n"
     ]
    },
    {
     "data": {
      "image/svg+xml": [
       "<?xml version=\"1.0\" encoding=\"utf-8\" standalone=\"no\"?>\n",
       "<!DOCTYPE svg PUBLIC \"-//W3C//DTD SVG 1.1//EN\"\n",
       "  \"http://www.w3.org/Graphics/SVG/1.1/DTD/svg11.dtd\">\n",
       "<svg xmlns:xlink=\"http://www.w3.org/1999/xlink\" width=\"280.8pt\" height=\"280.8pt\" viewBox=\"0 0 280.8 280.8\" xmlns=\"http://www.w3.org/2000/svg\" version=\"1.1\">\n",
       " <metadata>\n",
       "  <rdf:RDF xmlns:dc=\"http://purl.org/dc/elements/1.1/\" xmlns:cc=\"http://creativecommons.org/ns#\" xmlns:rdf=\"http://www.w3.org/1999/02/22-rdf-syntax-ns#\">\n",
       "   <cc:Work>\n",
       "    <dc:type rdf:resource=\"http://purl.org/dc/dcmitype/StillImage\"/>\n",
       "    <dc:date>2025-07-14T13:56:50.830523</dc:date>\n",
       "    <dc:format>image/svg+xml</dc:format>\n",
       "    <dc:creator>\n",
       "     <cc:Agent>\n",
       "      <dc:title>Matplotlib v3.10.3, https://matplotlib.org/</dc:title>\n",
       "     </cc:Agent>\n",
       "    </dc:creator>\n",
       "   </cc:Work>\n",
       "  </rdf:RDF>\n",
       " </metadata>\n",
       " <defs>\n",
       "  <style type=\"text/css\">*{stroke-linejoin: round; stroke-linecap: butt}</style>\n",
       " </defs>\n",
       " <g id=\"figure_1\">\n",
       "  <g id=\"patch_1\">\n",
       "   <path d=\"M 0 280.8 \n",
       "L 280.8 280.8 \n",
       "L 280.8 0 \n",
       "L 0 0 \n",
       "z\n",
       "\" style=\"fill: #ffffff\"/>\n",
       "  </g>\n",
       "  <g id=\"axes_1\">\n",
       "   <g id=\"patch_2\">\n",
       "    <path d=\"M 10.7 270.1 \n",
       "L 273.6 270.1 \n",
       "L 273.6 7.2 \n",
       "L 10.7 7.2 \n",
       "z\n",
       "\" style=\"fill: #ffffff\"/>\n",
       "   </g>\n",
       "   <g id=\"patch_3\">\n",
       "    <path d=\"M 10.7 270.1 \n",
       "L 10.7 7.2 \n",
       "\" style=\"fill: none; stroke: #000000; stroke-width: 0.8; stroke-linejoin: miter; stroke-linecap: square\"/>\n",
       "   </g>\n",
       "   <g id=\"matplotlib.axis_1\">\n",
       "    <g id=\"xtick_1\">\n",
       "     <g id=\"line2d_1\">\n",
       "      <defs>\n",
       "       <path id=\"m9fed893c7b\" d=\"M 0 0 \n",
       "L 0 3.5 \n",
       "\" style=\"stroke: #000000; stroke-width: 0.8\"/>\n",
       "      </defs>\n",
       "      <g>\n",
       "       <use xlink:href=\"#m9fed893c7b\" x=\"10.7\" y=\"270.1\" style=\"stroke: #000000; stroke-width: 0.8\"/>\n",
       "      </g>\n",
       "     </g>\n",
       "    </g>\n",
       "    <g id=\"xtick_2\">\n",
       "     <g id=\"line2d_2\">\n",
       "      <g>\n",
       "       <use xlink:href=\"#m9fed893c7b\" x=\"63.28\" y=\"270.1\" style=\"stroke: #000000; stroke-width: 0.8\"/>\n",
       "      </g>\n",
       "     </g>\n",
       "    </g>\n",
       "    <g id=\"xtick_3\">\n",
       "     <g id=\"line2d_3\">\n",
       "      <g>\n",
       "       <use xlink:href=\"#m9fed893c7b\" x=\"115.86\" y=\"270.1\" style=\"stroke: #000000; stroke-width: 0.8\"/>\n",
       "      </g>\n",
       "     </g>\n",
       "    </g>\n",
       "    <g id=\"xtick_4\">\n",
       "     <g id=\"line2d_4\">\n",
       "      <g>\n",
       "       <use xlink:href=\"#m9fed893c7b\" x=\"168.44\" y=\"270.1\" style=\"stroke: #000000; stroke-width: 0.8\"/>\n",
       "      </g>\n",
       "     </g>\n",
       "    </g>\n",
       "    <g id=\"xtick_5\">\n",
       "     <g id=\"line2d_5\">\n",
       "      <g>\n",
       "       <use xlink:href=\"#m9fed893c7b\" x=\"221.02\" y=\"270.1\" style=\"stroke: #000000; stroke-width: 0.8\"/>\n",
       "      </g>\n",
       "     </g>\n",
       "    </g>\n",
       "    <g id=\"xtick_6\">\n",
       "     <g id=\"line2d_6\">\n",
       "      <g>\n",
       "       <use xlink:href=\"#m9fed893c7b\" x=\"273.6\" y=\"270.1\" style=\"stroke: #000000; stroke-width: 0.8\"/>\n",
       "      </g>\n",
       "     </g>\n",
       "    </g>\n",
       "   </g>\n",
       "   <g id=\"matplotlib.axis_2\">\n",
       "    <g id=\"ytick_1\">\n",
       "     <g id=\"line2d_7\">\n",
       "      <defs>\n",
       "       <path id=\"me29406c821\" d=\"M 0 0 \n",
       "L -3.5 0 \n",
       "\" style=\"stroke: #000000; stroke-width: 0.8\"/>\n",
       "      </defs>\n",
       "      <g>\n",
       "       <use xlink:href=\"#me29406c821\" x=\"10.7\" y=\"270.1\" style=\"stroke: #000000; stroke-width: 0.8\"/>\n",
       "      </g>\n",
       "     </g>\n",
       "    </g>\n",
       "    <g id=\"ytick_2\">\n",
       "     <g id=\"line2d_8\">\n",
       "      <g>\n",
       "       <use xlink:href=\"#me29406c821\" x=\"10.7\" y=\"218.55098\" style=\"stroke: #000000; stroke-width: 0.8\"/>\n",
       "      </g>\n",
       "     </g>\n",
       "    </g>\n",
       "    <g id=\"ytick_3\">\n",
       "     <g id=\"line2d_9\">\n",
       "      <g>\n",
       "       <use xlink:href=\"#me29406c821\" x=\"10.7\" y=\"167.001961\" style=\"stroke: #000000; stroke-width: 0.8\"/>\n",
       "      </g>\n",
       "     </g>\n",
       "    </g>\n",
       "    <g id=\"ytick_4\">\n",
       "     <g id=\"line2d_10\">\n",
       "      <g>\n",
       "       <use xlink:href=\"#me29406c821\" x=\"10.7\" y=\"115.452941\" style=\"stroke: #000000; stroke-width: 0.8\"/>\n",
       "      </g>\n",
       "     </g>\n",
       "    </g>\n",
       "    <g id=\"ytick_5\">\n",
       "     <g id=\"line2d_11\">\n",
       "      <g>\n",
       "       <use xlink:href=\"#me29406c821\" x=\"10.7\" y=\"63.903922\" style=\"stroke: #000000; stroke-width: 0.8\"/>\n",
       "      </g>\n",
       "     </g>\n",
       "    </g>\n",
       "    <g id=\"ytick_6\">\n",
       "     <g id=\"line2d_12\">\n",
       "      <g>\n",
       "       <use xlink:href=\"#me29406c821\" x=\"10.7\" y=\"12.354902\" style=\"stroke: #000000; stroke-width: 0.8\"/>\n",
       "      </g>\n",
       "     </g>\n",
       "    </g>\n",
       "   </g>\n",
       "   <g id=\"patch_4\">\n",
       "    <path d=\"M 10.7 270.1 \n",
       "L 273.6 270.1 \n",
       "\" style=\"fill: none; stroke: #000000; stroke-width: 0.8; stroke-linejoin: miter; stroke-linecap: square\"/>\n",
       "   </g>\n",
       "   <g id=\"PathCollection_1\">\n",
       "    <defs>\n",
       "     <path id=\"m2c4fc8ebb6\" d=\"M 0 4.609772 \n",
       "C 1.222526 4.609772 2.395145 4.124058 3.259601 3.259601 \n",
       "C 4.124058 2.395145 4.609772 1.222526 4.609772 0 \n",
       "C 4.609772 -1.222526 4.124058 -2.395145 3.259601 -3.259601 \n",
       "C 2.395145 -4.124058 1.222526 -4.609772 0 -4.609772 \n",
       "C -1.222526 -4.609772 -2.395145 -4.124058 -3.259601 -3.259601 \n",
       "C -4.124058 -2.395145 -4.609772 -1.222526 -4.609772 0 \n",
       "C -4.609772 1.222526 -4.124058 2.395145 -3.259601 3.259601 \n",
       "C -2.395145 4.124058 -1.222526 4.609772 0 4.609772 \n",
       "z\n",
       "\" style=\"stroke: #596bb3; stroke-opacity: 0.6; stroke-width: 0.5\"/>\n",
       "    </defs>\n",
       "    <g>\n",
       "     <use xlink:href=\"#m2c4fc8ebb6\" x=\"216.513658\" y=\"12.354902\" style=\"fill: #596bb3; fill-opacity: 0.6; stroke: #596bb3; stroke-opacity: 0.6; stroke-width: 0.5\"/>\n",
       "     <use xlink:href=\"#m2c4fc8ebb6\" x=\"228.824483\" y=\"12.354902\" style=\"fill: #596bb3; fill-opacity: 0.6; stroke: #596bb3; stroke-opacity: 0.6; stroke-width: 0.5\"/>\n",
       "     <use xlink:href=\"#m2c4fc8ebb6\" x=\"227.007317\" y=\"12.354902\" style=\"fill: #596bb3; fill-opacity: 0.6; stroke: #596bb3; stroke-opacity: 0.6; stroke-width: 0.5\"/>\n",
       "     <use xlink:href=\"#m2c4fc8ebb6\" x=\"209.804591\" y=\"12.354902\" style=\"fill: #596bb3; fill-opacity: 0.6; stroke: #596bb3; stroke-opacity: 0.6; stroke-width: 0.5\"/>\n",
       "     <use xlink:href=\"#m2c4fc8ebb6\" x=\"232.357202\" y=\"12.354902\" style=\"fill: #596bb3; fill-opacity: 0.6; stroke: #596bb3; stroke-opacity: 0.6; stroke-width: 0.5\"/>\n",
       "     <use xlink:href=\"#m2c4fc8ebb6\" x=\"224.733967\" y=\"12.354902\" style=\"fill: #596bb3; fill-opacity: 0.6; stroke: #596bb3; stroke-opacity: 0.6; stroke-width: 0.5\"/>\n",
       "     <use xlink:href=\"#m2c4fc8ebb6\" x=\"233.635308\" y=\"12.354902\" style=\"fill: #596bb3; fill-opacity: 0.6; stroke: #596bb3; stroke-opacity: 0.6; stroke-width: 0.5\"/>\n",
       "     <use xlink:href=\"#m2c4fc8ebb6\" x=\"220.786863\" y=\"12.354902\" style=\"fill: #596bb3; fill-opacity: 0.6; stroke: #596bb3; stroke-opacity: 0.6; stroke-width: 0.5\"/>\n",
       "     <use xlink:href=\"#m2c4fc8ebb6\" x=\"227.251984\" y=\"12.354902\" style=\"fill: #596bb3; fill-opacity: 0.6; stroke: #596bb3; stroke-opacity: 0.6; stroke-width: 0.5\"/>\n",
       "     <use xlink:href=\"#m2c4fc8ebb6\" x=\"228.025622\" y=\"12.354902\" style=\"fill: #596bb3; fill-opacity: 0.6; stroke: #596bb3; stroke-opacity: 0.6; stroke-width: 0.5\"/>\n",
       "     <use xlink:href=\"#m2c4fc8ebb6\" x=\"229.422638\" y=\"12.354902\" style=\"fill: #596bb3; fill-opacity: 0.6; stroke: #596bb3; stroke-opacity: 0.6; stroke-width: 0.5\"/>\n",
       "     <use xlink:href=\"#m2c4fc8ebb6\" x=\"234.496868\" y=\"12.354902\" style=\"fill: #596bb3; fill-opacity: 0.6; stroke: #596bb3; stroke-opacity: 0.6; stroke-width: 0.5\"/>\n",
       "     <use xlink:href=\"#m2c4fc8ebb6\" x=\"228.198582\" y=\"12.354902\" style=\"fill: #596bb3; fill-opacity: 0.6; stroke: #596bb3; stroke-opacity: 0.6; stroke-width: 0.5\"/>\n",
       "     <use xlink:href=\"#m2c4fc8ebb6\" x=\"228.897271\" y=\"12.354902\" style=\"fill: #596bb3; fill-opacity: 0.6; stroke: #596bb3; stroke-opacity: 0.6; stroke-width: 0.5\"/>\n",
       "     <use xlink:href=\"#m2c4fc8ebb6\" x=\"224.82369\" y=\"12.354902\" style=\"fill: #596bb3; fill-opacity: 0.6; stroke: #596bb3; stroke-opacity: 0.6; stroke-width: 0.5\"/>\n",
       "     <use xlink:href=\"#m2c4fc8ebb6\" x=\"234.042126\" y=\"12.354902\" style=\"fill: #596bb3; fill-opacity: 0.6; stroke: #596bb3; stroke-opacity: 0.6; stroke-width: 0.5\"/>\n",
       "     <use xlink:href=\"#m2c4fc8ebb6\" x=\"257.447649\" y=\"12.354902\" style=\"fill: #596bb3; fill-opacity: 0.6; stroke: #596bb3; stroke-opacity: 0.6; stroke-width: 0.5\"/>\n",
       "     <use xlink:href=\"#m2c4fc8ebb6\" x=\"229.656495\" y=\"12.354902\" style=\"fill: #596bb3; fill-opacity: 0.6; stroke: #596bb3; stroke-opacity: 0.6; stroke-width: 0.5\"/>\n",
       "     <use xlink:href=\"#m2c4fc8ebb6\" x=\"229.739012\" y=\"12.354902\" style=\"fill: #596bb3; fill-opacity: 0.6; stroke: #596bb3; stroke-opacity: 0.6; stroke-width: 0.5\"/>\n",
       "     <use xlink:href=\"#m2c4fc8ebb6\" x=\"228.846464\" y=\"12.354902\" style=\"fill: #596bb3; fill-opacity: 0.6; stroke: #596bb3; stroke-opacity: 0.6; stroke-width: 0.5\"/>\n",
       "    </g>\n",
       "   </g>\n",
       "   <g id=\"PathCollection_2\">\n",
       "    <defs>\n",
       "     <path id=\"m7a7f1856e0\" d=\"M 0 4.609772 \n",
       "C 1.222526 4.609772 2.395145 4.124058 3.259601 3.259601 \n",
       "C 4.124058 2.395145 4.609772 1.222526 4.609772 0 \n",
       "C 4.609772 -1.222526 4.124058 -2.395145 3.259601 -3.259601 \n",
       "C 2.395145 -4.124058 1.222526 -4.609772 0 -4.609772 \n",
       "C -1.222526 -4.609772 -2.395145 -4.124058 -3.259601 -3.259601 \n",
       "C -4.124058 -2.395145 -4.609772 -1.222526 -4.609772 0 \n",
       "C -4.609772 1.222526 -4.124058 2.395145 -3.259601 3.259601 \n",
       "C -2.395145 4.124058 -1.222526 4.609772 0 4.609772 \n",
       "z\n",
       "\" style=\"stroke: #61a580; stroke-opacity: 0.6; stroke-width: 0.5\"/>\n",
       "    </defs>\n",
       "    <g>\n",
       "     <use xlink:href=\"#m7a7f1856e0\" x=\"11.046651\" y=\"244.647672\" style=\"fill: #61a580; fill-opacity: 0.6; stroke: #61a580; stroke-opacity: 0.6; stroke-width: 0.5\"/>\n",
       "     <use xlink:href=\"#m7a7f1856e0\" x=\"10.7\" y=\"246.594944\" style=\"fill: #61a580; fill-opacity: 0.6; stroke: #61a580; stroke-opacity: 0.6; stroke-width: 0.5\"/>\n",
       "     <use xlink:href=\"#m7a7f1856e0\" x=\"12.219956\" y=\"245.292034\" style=\"fill: #61a580; fill-opacity: 0.6; stroke: #61a580; stroke-opacity: 0.6; stroke-width: 0.5\"/>\n",
       "     <use xlink:href=\"#m7a7f1856e0\" x=\"50.703921\" y=\"235.948775\" style=\"fill: #61a580; fill-opacity: 0.6; stroke: #61a580; stroke-opacity: 0.6; stroke-width: 0.5\"/>\n",
       "     <use xlink:href=\"#m7a7f1856e0\" x=\"12.658741\" y=\"244.969853\" style=\"fill: #61a580; fill-opacity: 0.6; stroke: #61a580; stroke-opacity: 0.6; stroke-width: 0.5\"/>\n",
       "     <use xlink:href=\"#m7a7f1856e0\" x=\"17.06535\" y=\"242.392402\" style=\"fill: #61a580; fill-opacity: 0.6; stroke: #61a580; stroke-opacity: 0.6; stroke-width: 0.5\"/>\n",
       "     <use xlink:href=\"#m7a7f1856e0\" x=\"15.088998\" y=\"242.231311\" style=\"fill: #61a580; fill-opacity: 0.6; stroke: #61a580; stroke-opacity: 0.6; stroke-width: 0.5\"/>\n",
       "     <use xlink:href=\"#m7a7f1856e0\" x=\"26.663694\" y=\"243.681127\" style=\"fill: #61a580; fill-opacity: 0.6; stroke: #61a580; stroke-opacity: 0.6; stroke-width: 0.5\"/>\n",
       "     <use xlink:href=\"#m7a7f1856e0\" x=\"12.268874\" y=\"243.520037\" style=\"fill: #61a580; fill-opacity: 0.6; stroke: #61a580; stroke-opacity: 0.6; stroke-width: 0.5\"/>\n",
       "     <use xlink:href=\"#m7a7f1856e0\" x=\"19.038345\" y=\"241.90913\" style=\"fill: #61a580; fill-opacity: 0.6; stroke: #61a580; stroke-opacity: 0.6; stroke-width: 0.5\"/>\n",
       "     <use xlink:href=\"#m7a7f1856e0\" x=\"14.051544\" y=\"243.358946\" style=\"fill: #61a580; fill-opacity: 0.6; stroke: #61a580; stroke-opacity: 0.6; stroke-width: 0.5\"/>\n",
       "     <use xlink:href=\"#m7a7f1856e0\" x=\"10.744066\" y=\"244.808762\" style=\"fill: #61a580; fill-opacity: 0.6; stroke: #61a580; stroke-opacity: 0.6; stroke-width: 0.5\"/>\n",
       "     <use xlink:href=\"#m7a7f1856e0\" x=\"16.814306\" y=\"239.49277\" style=\"fill: #61a580; fill-opacity: 0.6; stroke: #61a580; stroke-opacity: 0.6; stroke-width: 0.5\"/>\n",
       "     <use xlink:href=\"#m7a7f1856e0\" x=\"28.847899\" y=\"241.425858\" style=\"fill: #61a580; fill-opacity: 0.6; stroke: #61a580; stroke-opacity: 0.6; stroke-width: 0.5\"/>\n",
       "     <use xlink:href=\"#m7a7f1856e0\" x=\"13.195005\" y=\"242.070221\" style=\"fill: #61a580; fill-opacity: 0.6; stroke: #61a580; stroke-opacity: 0.6; stroke-width: 0.5\"/>\n",
       "     <use xlink:href=\"#m7a7f1856e0\" x=\"12.773378\" y=\"244.14818\" style=\"fill: #61a580; fill-opacity: 0.6; stroke: #61a580; stroke-opacity: 0.6; stroke-width: 0.5\"/>\n",
       "     <use xlink:href=\"#m7a7f1856e0\" x=\"40.165617\" y=\"234.337868\" style=\"fill: #61a580; fill-opacity: 0.6; stroke: #61a580; stroke-opacity: 0.6; stroke-width: 0.5\"/>\n",
       "     <use xlink:href=\"#m7a7f1856e0\" x=\"54.213371\" y=\"236.088608\" style=\"fill: #61a580; fill-opacity: 0.6; stroke: #61a580; stroke-opacity: 0.6; stroke-width: 0.5\"/>\n",
       "     <use xlink:href=\"#m7a7f1856e0\" x=\"93.112394\" y=\"215.168076\" style=\"fill: #61a580; fill-opacity: 0.6; stroke: #61a580; stroke-opacity: 0.6; stroke-width: 0.5\"/>\n",
       "     <use xlink:href=\"#m7a7f1856e0\" x=\"11.901425\" y=\"245.130944\" style=\"fill: #61a580; fill-opacity: 0.6; stroke: #61a580; stroke-opacity: 0.6; stroke-width: 0.5\"/>\n",
       "    </g>\n",
       "   </g>\n",
       "   <g id=\"PathCollection_3\">\n",
       "    <defs>\n",
       "     <path id=\"m50c6a2ad23\" d=\"M 0 -5.477226 \n",
       "L -1.229714 -1.692556 \n",
       "L -5.209151 -1.692556 \n",
       "L -1.989719 0.646499 \n",
       "L -3.219432 4.431169 \n",
       "L -0 2.092114 \n",
       "L 3.219432 4.431169 \n",
       "L 1.989719 0.646499 \n",
       "L 5.209151 -1.692556 \n",
       "L 1.229714 -1.692556 \n",
       "z\n",
       "\" style=\"stroke: #000000; stroke-width: 0.5\"/>\n",
       "    </defs>\n",
       "    <g>\n",
       "     <use xlink:href=\"#m50c6a2ad23\" x=\"223.683592\" y=\"12.354902\" style=\"fill: #ffd700; stroke: #000000; stroke-width: 0.5\"/>\n",
       "    </g>\n",
       "   </g>\n",
       "   <g id=\"PathCollection_4\">\n",
       "    <g>\n",
       "     <use xlink:href=\"#m50c6a2ad23\" x=\"18.861088\" y=\"246.258578\" style=\"fill: #ffd700; stroke: #000000; stroke-width: 0.5\"/>\n",
       "    </g>\n",
       "   </g>\n",
       "  </g>\n",
       " </g>\n",
       "</svg>\n"
      ],
      "text/plain": [
       "<Figure size 600x600 with 1 Axes>"
      ]
     },
     "metadata": {},
     "output_type": "display_data"
    },
    {
     "name": "stdout",
     "output_type": "stream",
     "text": [
      "\n",
      "=== SUMMARY STATISTICS ===\n",
      "Standard prompts - Validity: 100.00±0.00%\n",
      "Standard prompts - Mean RCF_A: 0.4147±0.0171\n",
      "Minimal prompts - Validity: 11.34±2.68%\n",
      "Minimal prompts - Mean RCF_A: 0.0256±0.0398\n",
      "\n",
      "Standard prompts validity range: 100.00% - 100.00%\n",
      "Minimal prompts validity range: 9.12% - 21.31%\n"
     ]
    }
   ],
   "source": [
    "# Create scatter plot for all house price results\n",
    "# Color and styling parameters (from scatter.ipynb)\n",
    "colour_1 = \"#596BB3\"  # Standard prompts [Good]\n",
    "colour_2 = \"#61A580\"  # Minimal prompts [Good]\n",
    "_alpha = 0.6\n",
    "_size = 85\n",
    "_x_lim_min = 0.0\n",
    "max = 0.5\n",
    "\n",
    "# Separate standard and minimal results\n",
    "standard_results = df_results[~df_results['is_minimal']].copy()\n",
    "minimal_results = df_results[df_results['is_minimal']].copy()\n",
    "\n",
    "print(f\"Standard results: {len(standard_results)}\")\n",
    "print(f\"Minimal results: {len(minimal_results)}\")\n",
    "\n",
    "# Create the scatter plot\n",
    "fig, ax = plt.subplots(figsize=(4, 4), dpi=150,zorder=0)\n",
    "\n",
    "\n",
    "ax.set_axisbelow(True)\n",
    "\n",
    "for spine in ['top', 'right']:\n",
    "    spine_obj = ax.spines[spine]\n",
    "    spine_obj.set_visible(False)\n",
    "\n",
    "ax.spines['left'].set_zorder(0)\n",
    "ax.spines['bottom'].set_zorder(1)\n",
    "\n",
    "# Plot standard results\n",
    "ax.scatter(standard_results['mean_RCF_A'], standard_results['validity_percent'], \n",
    "           label='Standard', marker='o', s=_size, color=colour_1, \n",
    "           linewidth=0.5, alpha=_alpha, zorder=4, clip_on=False)\n",
    "\n",
    "# Plot minimal results  \n",
    "ax.scatter(minimal_results['mean_RCF_A'], minimal_results['validity_percent'],\n",
    "           label='Minimal', marker='o', s=_size, color=colour_2,\n",
    "           linewidth=0.5, alpha=_alpha, zorder=10, clip_on=False)\n",
    "\n",
    "# Styling\n",
    "\n",
    "\n",
    "# Star markers (highlighted points – not part of standard/minimal groups)\n",
    "highlight_points = [\n",
    "    (0.40506578942993654, 100),\n",
    "    (0.015521277535102657, 9.25)\n",
    "]\n",
    "\n",
    "for (x, y) in highlight_points:\n",
    "    ax.scatter([x], [y],\n",
    "               marker='*', s=120, color='gold',\n",
    "               edgecolor='black', linewidth=0.5,\n",
    "               alpha=1.0, zorder=11, clip_on=False)\n",
    "\n",
    "\n",
    "\n",
    "# Set axis limits\n",
    "ax.set_xlim(_x_lim_min, max)\n",
    "ax.set_ylim(0, 102)\n",
    "\n",
    "\n",
    "ax.set_xticklabels([])   # remove x tick-label text\n",
    "ax.set_yticklabels([])\n",
    "\n",
    "plt.tight_layout()\n",
    "plt.savefig(REPO_ROOT / \"analysis/prompt_sensitivity/scatter_all_perturbations.png\", \n",
    "            bbox_inches='tight', dpi=300)\n",
    "plt.show()\n",
    "\n",
    "\n",
    "\n",
    "\n",
    "\n",
    "# Print summary statistics\n",
    "print(\"\\n=== SUMMARY STATISTICS ===\")\n",
    "print(f\"Standard prompts - Validity: {standard_results['validity_percent'].mean():.2f}±{standard_results['validity_percent'].std():.2f}%\")\n",
    "print(f\"Standard prompts - Mean RCF_A: {standard_results['mean_RCF_A'].mean():.4f}±{standard_results['mean_RCF_A'].std():.4f}\")\n",
    "print(f\"Minimal prompts - Validity: {minimal_results['validity_percent'].mean():.2f}±{minimal_results['validity_percent'].std():.2f}%\")\n",
    "print(f\"Minimal prompts - Mean RCF_A: {minimal_results['mean_RCF_A'].mean():.4f}±{minimal_results['mean_RCF_A'].std():.4f}\")\n",
    "\n",
    "# Show distribution of results\n",
    "print(f\"\\nStandard prompts validity range: {standard_results['validity_percent'].min():.2f}% - {standard_results['validity_percent'].max():.2f}%\")\n",
    "print(f\"Minimal prompts validity range: {minimal_results['validity_percent'].min():.2f}% - {minimal_results['validity_percent'].max():.2f}%\")"
   ]
  },
  {
   "cell_type": "code",
   "execution_count": null,
   "metadata": {},
   "outputs": [],
   "source": []
  },
  {
   "cell_type": "code",
   "execution_count": null,
   "metadata": {},
   "outputs": [],
   "source": []
  }
 ],
 "metadata": {
  "kernelspec": {
   "display_name": "vllm",
   "language": "python",
   "name": "python3"
  },
  "language_info": {
   "codemirror_mode": {
    "name": "ipython",
    "version": 3
   },
   "file_extension": ".py",
   "mimetype": "text/x-python",
   "name": "python",
   "nbconvert_exporter": "python",
   "pygments_lexer": "ipython3",
   "version": "3.12.3"
  }
 },
 "nbformat": 4,
 "nbformat_minor": 2
}
