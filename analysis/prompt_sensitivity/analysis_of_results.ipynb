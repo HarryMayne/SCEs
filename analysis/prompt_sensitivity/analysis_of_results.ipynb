{
 "cells": [
  {
   "cell_type": "markdown",
   "metadata": {},
   "source": [
    "# Analysis\n",
    "\n",
    "Postprocess the results and creating the figure in the paper!"
   ]
  },
  {
   "cell_type": "code",
   "execution_count": 1,
   "metadata": {},
   "outputs": [
    {
     "name": "stdout",
     "output_type": "stream",
     "text": [
      "INFO 09-10 16:13:21 [__init__.py:239] Automatically detected platform cuda.\n"
     ]
    }
   ],
   "source": [
    "import pandas as pd\n",
    "import numpy as np\n",
    "import os\n",
    "import sys\n",
    "import argparse\n",
    "import json\n",
    "import os\n",
    "import gc\n",
    "import warnings\n",
    "from typing import List, Dict, Any\n",
    "import time\n",
    "import torch\n",
    "from datasets import load_dataset, load_from_disk\n",
    "from tqdm import tqdm\n",
    "from vllm import LLM, SamplingParams\n",
    "import matplotlib.pyplot as plt\n",
    "from matplotlib.ticker import MultipleLocator\n",
    "import glob\n",
    "\n",
    "\n",
    "sys.path.insert(0, \"../../src/\")\n",
    "sys.path.insert(0, \"../..\")\n",
    "\n",
    "from config import REPO_ROOT\n",
    "from utils import postprocessing, scoring_function\n",
    "\n",
    "# Set up matplotlib\n",
    "%config InlineBackend.figure_format = 'svg'"
   ]
  },
  {
   "cell_type": "code",
   "execution_count": 2,
   "metadata": {},
   "outputs": [
    {
     "name": "stdout",
     "output_type": "stream",
     "text": [
      "Found 40 files to process\n",
      "Processing house_prices_0.json...\n",
      "Extracted Dataset Name: house_prices_0.json\n"
     ]
    },
    {
     "data": {
      "application/vnd.jupyter.widget-view+json": {
       "model_id": "453f63b9102b4a2683044982a18285a8",
       "version_major": 2,
       "version_minor": 0
      },
      "text/plain": [
       "  0%|          | 0/1600 [00:00<?, ?it/s]"
      ]
     },
     "metadata": {},
     "output_type": "display_data"
    },
    {
     "name": "stdout",
     "output_type": "stream",
     "text": [
      "  Validity: 100.00%, Mean RCF_A: 0.3914\n",
      "Processing house_prices_1.json...\n",
      "Extracted Dataset Name: house_prices_1.json\n"
     ]
    },
    {
     "data": {
      "application/vnd.jupyter.widget-view+json": {
       "model_id": "1a4d5abb9fc2449d8840023f1811c96e",
       "version_major": 2,
       "version_minor": 0
      },
      "text/plain": [
       "  0%|          | 0/1600 [00:00<?, ?it/s]"
      ]
     },
     "metadata": {},
     "output_type": "display_data"
    },
    {
     "name": "stdout",
     "output_type": "stream",
     "text": [
      "  Validity: 100.00%, Mean RCF_A: 0.4148\n",
      "Processing house_prices_10.json...\n",
      "Extracted Dataset Name: house_prices_10.json\n"
     ]
    },
    {
     "data": {
      "application/vnd.jupyter.widget-view+json": {
       "model_id": "fd7f91f7f9c841c89d80558a40589835",
       "version_major": 2,
       "version_minor": 0
      },
      "text/plain": [
       "  0%|          | 0/1600 [00:00<?, ?it/s]"
      ]
     },
     "metadata": {},
     "output_type": "display_data"
    },
    {
     "name": "stdout",
     "output_type": "stream",
     "text": [
      "  Validity: 100.00%, Mean RCF_A: 0.4114\n",
      "Processing house_prices_11.json...\n",
      "Extracted Dataset Name: house_prices_11.json\n"
     ]
    },
    {
     "data": {
      "application/vnd.jupyter.widget-view+json": {
       "model_id": "b8c7130172564e4a803f088f15d6adf8",
       "version_major": 2,
       "version_minor": 0
      },
      "text/plain": [
       "  0%|          | 0/1600 [00:00<?, ?it/s]"
      ]
     },
     "metadata": {},
     "output_type": "display_data"
    },
    {
     "name": "stdout",
     "output_type": "stream",
     "text": [
      "  Validity: 100.00%, Mean RCF_A: 0.3787\n",
      "Processing house_prices_12.json...\n",
      "Extracted Dataset Name: house_prices_12.json\n"
     ]
    },
    {
     "data": {
      "application/vnd.jupyter.widget-view+json": {
       "model_id": "3b1c05029e5745fe8e9e880315138d7d",
       "version_major": 2,
       "version_minor": 0
      },
      "text/plain": [
       "  0%|          | 0/1600 [00:00<?, ?it/s]"
      ]
     },
     "metadata": {},
     "output_type": "display_data"
    },
    {
     "name": "stdout",
     "output_type": "stream",
     "text": [
      "  Validity: 100.00%, Mean RCF_A: 0.4216\n",
      "Processing house_prices_13.json...\n",
      "Extracted Dataset Name: house_prices_13.json\n"
     ]
    },
    {
     "data": {
      "application/vnd.jupyter.widget-view+json": {
       "model_id": "f5f3cdaf358344c78a58d9d1f0a3bc05",
       "version_major": 2,
       "version_minor": 0
      },
      "text/plain": [
       "  0%|          | 0/1600 [00:00<?, ?it/s]"
      ]
     },
     "metadata": {},
     "output_type": "display_data"
    },
    {
     "name": "stdout",
     "output_type": "stream",
     "text": [
      "  Validity: 100.00%, Mean RCF_A: 0.4071\n",
      "Processing house_prices_14.json...\n",
      "Extracted Dataset Name: house_prices_14.json\n"
     ]
    },
    {
     "data": {
      "application/vnd.jupyter.widget-view+json": {
       "model_id": "ac8a8174f567465993d84f6938bc7f58",
       "version_major": 2,
       "version_minor": 0
      },
      "text/plain": [
       "  0%|          | 0/1600 [00:00<?, ?it/s]"
      ]
     },
     "metadata": {},
     "output_type": "display_data"
    },
    {
     "name": "stdout",
     "output_type": "stream",
     "text": [
      "  Validity: 100.00%, Mean RCF_A: 0.4240\n",
      "Processing house_prices_15.json...\n",
      "Extracted Dataset Name: house_prices_15.json\n"
     ]
    },
    {
     "data": {
      "application/vnd.jupyter.widget-view+json": {
       "model_id": "befd36ad309c4f3187238073d564ad80",
       "version_major": 2,
       "version_minor": 0
      },
      "text/plain": [
       "  0%|          | 0/1600 [00:00<?, ?it/s]"
      ]
     },
     "metadata": {},
     "output_type": "display_data"
    },
    {
     "name": "stdout",
     "output_type": "stream",
     "text": [
      "  Validity: 100.00%, Mean RCF_A: 0.3996\n",
      "Processing house_prices_16.json...\n",
      "Extracted Dataset Name: house_prices_16.json\n"
     ]
    },
    {
     "data": {
      "application/vnd.jupyter.widget-view+json": {
       "model_id": "64b6534e5150420e92b6783323d15526",
       "version_major": 2,
       "version_minor": 0
      },
      "text/plain": [
       "  0%|          | 0/1600 [00:00<?, ?it/s]"
      ]
     },
     "metadata": {},
     "output_type": "display_data"
    },
    {
     "name": "stdout",
     "output_type": "stream",
     "text": [
      "  Validity: 100.00%, Mean RCF_A: 0.4119\n",
      "Processing house_prices_17.json...\n",
      "Extracted Dataset Name: house_prices_17.json\n"
     ]
    },
    {
     "data": {
      "application/vnd.jupyter.widget-view+json": {
       "model_id": "fa7304f3c3f14f029f6505b05ac68073",
       "version_major": 2,
       "version_minor": 0
      },
      "text/plain": [
       "  0%|          | 0/1600 [00:00<?, ?it/s]"
      ]
     },
     "metadata": {},
     "output_type": "display_data"
    },
    {
     "name": "stdout",
     "output_type": "stream",
     "text": [
      "  Validity: 100.00%, Mean RCF_A: 0.4133\n",
      "Processing house_prices_18.json...\n",
      "Extracted Dataset Name: house_prices_18.json\n"
     ]
    },
    {
     "data": {
      "application/vnd.jupyter.widget-view+json": {
       "model_id": "8b0c7be631c448faaf6a877159bf4ce7",
       "version_major": 2,
       "version_minor": 0
      },
      "text/plain": [
       "  0%|          | 0/1600 [00:00<?, ?it/s]"
      ]
     },
     "metadata": {},
     "output_type": "display_data"
    },
    {
     "name": "stdout",
     "output_type": "stream",
     "text": [
      "  Validity: 100.00%, Mean RCF_A: 0.4160\n",
      "Processing house_prices_19.json...\n",
      "Extracted Dataset Name: house_prices_19.json\n"
     ]
    },
    {
     "data": {
      "application/vnd.jupyter.widget-view+json": {
       "model_id": "83e0a6cb5cd248408347526f90bfdf2c",
       "version_major": 2,
       "version_minor": 0
      },
      "text/plain": [
       "  0%|          | 0/1600 [00:00<?, ?it/s]"
      ]
     },
     "metadata": {},
     "output_type": "display_data"
    },
    {
     "name": "stdout",
     "output_type": "stream",
     "text": [
      "  Validity: 100.00%, Mean RCF_A: 0.4256\n",
      "Processing house_prices_2.json...\n",
      "Extracted Dataset Name: house_prices_2.json\n"
     ]
    },
    {
     "data": {
      "application/vnd.jupyter.widget-view+json": {
       "model_id": "3630efe7eb3e4e278ebcd519a120f7f0",
       "version_major": 2,
       "version_minor": 0
      },
      "text/plain": [
       "  0%|          | 0/1600 [00:00<?, ?it/s]"
      ]
     },
     "metadata": {},
     "output_type": "display_data"
    },
    {
     "name": "stdout",
     "output_type": "stream",
     "text": [
      "  Validity: 100.00%, Mean RCF_A: 0.4137\n",
      "Processing house_prices_3.json...\n",
      "Extracted Dataset Name: house_prices_3.json\n"
     ]
    },
    {
     "data": {
      "application/vnd.jupyter.widget-view+json": {
       "model_id": "996a9e52b2544343a550110993b3399a",
       "version_major": 2,
       "version_minor": 0
      },
      "text/plain": [
       "  0%|          | 0/1600 [00:00<?, ?it/s]"
      ]
     },
     "metadata": {},
     "output_type": "display_data"
    },
    {
     "name": "stdout",
     "output_type": "stream",
     "text": [
      "  Validity: 100.00%, Mean RCF_A: 0.4150\n",
      "Processing house_prices_4.json...\n",
      "Extracted Dataset Name: house_prices_4.json\n"
     ]
    },
    {
     "data": {
      "application/vnd.jupyter.widget-view+json": {
       "model_id": "9d14904c70c644e694378e0e62359596",
       "version_major": 2,
       "version_minor": 0
      },
      "text/plain": [
       "  0%|          | 0/1600 [00:00<?, ?it/s]"
      ]
     },
     "metadata": {},
     "output_type": "display_data"
    },
    {
     "name": "stdout",
     "output_type": "stream",
     "text": [
      "  Validity: 100.00%, Mean RCF_A: 0.4072\n",
      "Processing house_prices_5.json...\n",
      "Extracted Dataset Name: house_prices_5.json\n"
     ]
    },
    {
     "data": {
      "application/vnd.jupyter.widget-view+json": {
       "model_id": "09633bfe386347e480a5bcf71d9499dd",
       "version_major": 2,
       "version_minor": 0
      },
      "text/plain": [
       "  0%|          | 0/1600 [00:00<?, ?it/s]"
      ]
     },
     "metadata": {},
     "output_type": "display_data"
    },
    {
     "name": "stdout",
     "output_type": "stream",
     "text": [
      "  Validity: 100.00%, Mean RCF_A: 0.4248\n",
      "Processing house_prices_6.json...\n",
      "Extracted Dataset Name: house_prices_6.json\n"
     ]
    },
    {
     "data": {
      "application/vnd.jupyter.widget-view+json": {
       "model_id": "75b3be7003e54c4c85c1d5d02c29d0ff",
       "version_major": 2,
       "version_minor": 0
      },
      "text/plain": [
       "  0%|          | 0/1600 [00:00<?, ?it/s]"
      ]
     },
     "metadata": {},
     "output_type": "display_data"
    },
    {
     "name": "stdout",
     "output_type": "stream",
     "text": [
      "  Validity: 100.00%, Mean RCF_A: 0.4693\n",
      "Processing house_prices_7.json...\n",
      "Extracted Dataset Name: house_prices_7.json\n"
     ]
    },
    {
     "data": {
      "application/vnd.jupyter.widget-view+json": {
       "model_id": "5430a31e10ac44d48db81ac618af01f2",
       "version_major": 2,
       "version_minor": 0
      },
      "text/plain": [
       "  0%|          | 0/1600 [00:00<?, ?it/s]"
      ]
     },
     "metadata": {},
     "output_type": "display_data"
    },
    {
     "name": "stdout",
     "output_type": "stream",
     "text": [
      "  Validity: 100.00%, Mean RCF_A: 0.4164\n",
      "Processing house_prices_8.json...\n",
      "Extracted Dataset Name: house_prices_8.json\n"
     ]
    },
    {
     "data": {
      "application/vnd.jupyter.widget-view+json": {
       "model_id": "0a221634662f4edc98b1428ef65071c0",
       "version_major": 2,
       "version_minor": 0
      },
      "text/plain": [
       "  0%|          | 0/1600 [00:00<?, ?it/s]"
      ]
     },
     "metadata": {},
     "output_type": "display_data"
    },
    {
     "name": "stdout",
     "output_type": "stream",
     "text": [
      "  Validity: 100.00%, Mean RCF_A: 0.4166\n",
      "Processing house_prices_9.json...\n",
      "Extracted Dataset Name: house_prices_9.json\n"
     ]
    },
    {
     "data": {
      "application/vnd.jupyter.widget-view+json": {
       "model_id": "89f90ae9b46642588264b76beccd21ac",
       "version_major": 2,
       "version_minor": 0
      },
      "text/plain": [
       "  0%|          | 0/1600 [00:00<?, ?it/s]"
      ]
     },
     "metadata": {},
     "output_type": "display_data"
    },
    {
     "name": "stdout",
     "output_type": "stream",
     "text": [
      "  Validity: 100.00%, Mean RCF_A: 0.4149\n",
      "Processing house_prices_minimal_0.json...\n",
      "Extracted Dataset Name: house_prices_minimal_0.json\n"
     ]
    },
    {
     "data": {
      "application/vnd.jupyter.widget-view+json": {
       "model_id": "a95b1c58230347f7aa7056d19f2c2824",
       "version_major": 2,
       "version_minor": 0
      },
      "text/plain": [
       "  0%|          | 0/1600 [00:00<?, ?it/s]"
      ]
     },
     "metadata": {},
     "output_type": "display_data"
    },
    {
     "name": "stdout",
     "output_type": "stream",
     "text": [
      "  Validity: 9.88%, Mean RCF_A: 0.0007\n",
      "Processing house_prices_minimal_1.json...\n",
      "Extracted Dataset Name: house_prices_minimal_1.json\n"
     ]
    },
    {
     "data": {
      "application/vnd.jupyter.widget-view+json": {
       "model_id": "4e324a66484c4c43881c45207aa226ad",
       "version_major": 2,
       "version_minor": 0
      },
      "text/plain": [
       "  0%|          | 0/1600 [00:00<?, ?it/s]"
      ]
     },
     "metadata": {},
     "output_type": "display_data"
    },
    {
     "name": "stdout",
     "output_type": "stream",
     "text": [
      "  Validity: 9.12%, Mean RCF_A: 0.0000\n",
      "Processing house_prices_minimal_10.json...\n",
      "Extracted Dataset Name: house_prices_minimal_10.json\n"
     ]
    },
    {
     "data": {
      "application/vnd.jupyter.widget-view+json": {
       "model_id": "c05ad7e163b044969a07c1169fcac0f6",
       "version_major": 2,
       "version_minor": 0
      },
      "text/plain": [
       "  0%|          | 0/1600 [00:00<?, ?it/s]"
      ]
     },
     "metadata": {},
     "output_type": "display_data"
    },
    {
     "name": "stdout",
     "output_type": "stream",
     "text": [
      "  Validity: 9.62%, Mean RCF_A: 0.0029\n",
      "Processing house_prices_minimal_11.json...\n",
      "Extracted Dataset Name: house_prices_minimal_11.json\n"
     ]
    },
    {
     "data": {
      "application/vnd.jupyter.widget-view+json": {
       "model_id": "3845eafa38104fd2b18c49a2179e2cf2",
       "version_major": 2,
       "version_minor": 0
      },
      "text/plain": [
       "  0%|          | 0/1600 [00:00<?, ?it/s]"
      ]
     },
     "metadata": {},
     "output_type": "display_data"
    },
    {
     "name": "stdout",
     "output_type": "stream",
     "text": [
      "  Validity: 13.25%, Mean RCF_A: 0.0761\n",
      "Processing house_prices_minimal_12.json...\n",
      "Extracted Dataset Name: house_prices_minimal_12.json\n"
     ]
    },
    {
     "data": {
      "application/vnd.jupyter.widget-view+json": {
       "model_id": "1123375c005d46aa82acfb6d2f2a6446",
       "version_major": 2,
       "version_minor": 0
      },
      "text/plain": [
       "  0%|          | 0/1600 [00:00<?, ?it/s]"
      ]
     },
     "metadata": {},
     "output_type": "display_data"
    },
    {
     "name": "stdout",
     "output_type": "stream",
     "text": [
      "  Validity: 9.75%, Mean RCF_A: 0.0037\n",
      "Processing house_prices_minimal_13.json...\n",
      "Extracted Dataset Name: house_prices_minimal_13.json\n"
     ]
    },
    {
     "data": {
      "application/vnd.jupyter.widget-view+json": {
       "model_id": "37e1cb3634f743e782fcbc860789daad",
       "version_major": 2,
       "version_minor": 0
      },
      "text/plain": [
       "  0%|          | 0/1600 [00:00<?, ?it/s]"
      ]
     },
     "metadata": {},
     "output_type": "display_data"
    },
    {
     "name": "stdout",
     "output_type": "stream",
     "text": [
      "  Validity: 10.75%, Mean RCF_A: 0.0121\n",
      "Processing house_prices_minimal_14.json...\n",
      "Extracted Dataset Name: house_prices_minimal_14.json\n"
     ]
    },
    {
     "data": {
      "application/vnd.jupyter.widget-view+json": {
       "model_id": "e17bef132ad44bc88bec6b057b29b99c",
       "version_major": 2,
       "version_minor": 0
      },
      "text/plain": [
       "  0%|          | 0/1600 [00:00<?, ?it/s]"
      ]
     },
     "metadata": {},
     "output_type": "display_data"
    },
    {
     "name": "stdout",
     "output_type": "stream",
     "text": [
      "  Validity: 10.81%, Mean RCF_A: 0.0083\n",
      "Processing house_prices_minimal_15.json...\n",
      "Extracted Dataset Name: house_prices_minimal_15.json\n"
     ]
    },
    {
     "data": {
      "application/vnd.jupyter.widget-view+json": {
       "model_id": "12590b04abfc4988a1023b52ab65692d",
       "version_major": 2,
       "version_minor": 0
      },
      "text/plain": [
       "  0%|          | 0/1600 [00:00<?, ?it/s]"
      ]
     },
     "metadata": {},
     "output_type": "display_data"
    },
    {
     "name": "stdout",
     "output_type": "stream",
     "text": [
      "  Validity: 10.25%, Mean RCF_A: 0.0304\n",
      "Processing house_prices_minimal_16.json...\n",
      "Extracted Dataset Name: house_prices_minimal_16.json\n"
     ]
    },
    {
     "data": {
      "application/vnd.jupyter.widget-view+json": {
       "model_id": "cfdd26c136b44d7fa420d4034604d6a2",
       "version_major": 2,
       "version_minor": 0
      },
      "text/plain": [
       "  0%|          | 0/1600 [00:00<?, ?it/s]"
      ]
     },
     "metadata": {},
     "output_type": "display_data"
    },
    {
     "name": "stdout",
     "output_type": "stream",
     "text": [
      "  Validity: 10.31%, Mean RCF_A: 0.0030\n",
      "Processing house_prices_minimal_17.json...\n",
      "Extracted Dataset Name: house_prices_minimal_17.json\n"
     ]
    },
    {
     "data": {
      "application/vnd.jupyter.widget-view+json": {
       "model_id": "c8a31fd036ad45cd886045187b1349db",
       "version_major": 2,
       "version_minor": 0
      },
      "text/plain": [
       "  0%|          | 0/1600 [00:00<?, ?it/s]"
      ]
     },
     "metadata": {},
     "output_type": "display_data"
    },
    {
     "name": "stdout",
     "output_type": "stream",
     "text": [
      "  Validity: 10.94%, Mean RCF_A: 0.0159\n",
      "Processing house_prices_minimal_18.json...\n",
      "Extracted Dataset Name: house_prices_minimal_18.json\n"
     ]
    },
    {
     "data": {
      "application/vnd.jupyter.widget-view+json": {
       "model_id": "e002c4fe9c6b47339a577daa1cc98f5c",
       "version_major": 2,
       "version_minor": 0
      },
      "text/plain": [
       "  0%|          | 0/1600 [00:00<?, ?it/s]"
      ]
     },
     "metadata": {},
     "output_type": "display_data"
    },
    {
     "name": "stdout",
     "output_type": "stream",
     "text": [
      "  Validity: 10.38%, Mean RCF_A: 0.0064\n",
      "Processing house_prices_minimal_19.json...\n",
      "Extracted Dataset Name: house_prices_minimal_19.json\n"
     ]
    },
    {
     "data": {
      "application/vnd.jupyter.widget-view+json": {
       "model_id": "5e6c1fcfc6dc4058a20674530b39e129",
       "version_major": 2,
       "version_minor": 0
      },
      "text/plain": [
       "  0%|          | 0/1600 [00:00<?, ?it/s]"
      ]
     },
     "metadata": {},
     "output_type": "display_data"
    },
    {
     "name": "stdout",
     "output_type": "stream",
     "text": [
      "  Validity: 9.81%, Mean RCF_A: 0.0001\n",
      "Processing house_prices_minimal_2.json...\n",
      "Extracted Dataset Name: house_prices_minimal_2.json\n"
     ]
    },
    {
     "data": {
      "application/vnd.jupyter.widget-view+json": {
       "model_id": "5ade18f206e241dbb480ad58030ea40a",
       "version_major": 2,
       "version_minor": 0
      },
      "text/plain": [
       "  0%|          | 0/1600 [00:00<?, ?it/s]"
      ]
     },
     "metadata": {},
     "output_type": "display_data"
    },
    {
     "name": "stdout",
     "output_type": "stream",
     "text": [
      "  Validity: 11.88%, Mean RCF_A: 0.0116\n",
      "Processing house_prices_minimal_3.json...\n",
      "Extracted Dataset Name: house_prices_minimal_3.json\n"
     ]
    },
    {
     "data": {
      "application/vnd.jupyter.widget-view+json": {
       "model_id": "e29940fb97ae4ee98b7d89a7ad877a95",
       "version_major": 2,
       "version_minor": 0
      },
      "text/plain": [
       "  0%|          | 0/1600 [00:00<?, ?it/s]"
      ]
     },
     "metadata": {},
     "output_type": "display_data"
    },
    {
     "name": "stdout",
     "output_type": "stream",
     "text": [
      "  Validity: 11.12%, Mean RCF_A: 0.0345\n",
      "Processing house_prices_minimal_4.json...\n",
      "Extracted Dataset Name: house_prices_minimal_4.json\n"
     ]
    },
    {
     "data": {
      "application/vnd.jupyter.widget-view+json": {
       "model_id": "a3d81bee22b0430abe383bcf1254e07b",
       "version_major": 2,
       "version_minor": 0
      },
      "text/plain": [
       "  0%|          | 0/1600 [00:00<?, ?it/s]"
      ]
     },
     "metadata": {},
     "output_type": "display_data"
    },
    {
     "name": "stdout",
     "output_type": "stream",
     "text": [
      "  Validity: 10.88%, Mean RCF_A: 0.0047\n",
      "Processing house_prices_minimal_5.json...\n",
      "Extracted Dataset Name: house_prices_minimal_5.json\n"
     ]
    },
    {
     "data": {
      "application/vnd.jupyter.widget-view+json": {
       "model_id": "3c0bdd9fd99c4bb28b9587d957ab7ee7",
       "version_major": 2,
       "version_minor": 0
      },
      "text/plain": [
       "  0%|          | 0/1600 [00:00<?, ?it/s]"
      ]
     },
     "metadata": {},
     "output_type": "display_data"
    },
    {
     "name": "stdout",
     "output_type": "stream",
     "text": [
      "  Validity: 10.07%, Mean RCF_A: 0.0039\n",
      "Processing house_prices_minimal_6.json...\n",
      "Extracted Dataset Name: house_prices_minimal_6.json\n"
     ]
    },
    {
     "data": {
      "application/vnd.jupyter.widget-view+json": {
       "model_id": "9435fcf113544aa4b6cc74dca04d1bc3",
       "version_major": 2,
       "version_minor": 0
      },
      "text/plain": [
       "  0%|          | 0/1600 [00:00<?, ?it/s]"
      ]
     },
     "metadata": {},
     "output_type": "display_data"
    },
    {
     "name": "stdout",
     "output_type": "stream",
     "text": [
      "  Validity: 13.88%, Mean RCF_A: 0.0560\n",
      "Processing house_prices_minimal_7.json...\n",
      "Extracted Dataset Name: house_prices_minimal_7.json\n"
     ]
    },
    {
     "data": {
      "application/vnd.jupyter.widget-view+json": {
       "model_id": "e100450061a34ba4ad0cc5ac7fa73774",
       "version_major": 2,
       "version_minor": 0
      },
      "text/plain": [
       "  0%|          | 0/1600 [00:00<?, ?it/s]"
      ]
     },
     "metadata": {},
     "output_type": "display_data"
    },
    {
     "name": "stdout",
     "output_type": "stream",
     "text": [
      "  Validity: 13.20%, Mean RCF_A: 0.0828\n",
      "Processing house_prices_minimal_8.json...\n",
      "Extracted Dataset Name: house_prices_minimal_8.json\n"
     ]
    },
    {
     "data": {
      "application/vnd.jupyter.widget-view+json": {
       "model_id": "bed4feae1747460485b1951982a7950b",
       "version_major": 2,
       "version_minor": 0
      },
      "text/plain": [
       "  0%|          | 0/1600 [00:00<?, ?it/s]"
      ]
     },
     "metadata": {},
     "output_type": "display_data"
    },
    {
     "name": "stdout",
     "output_type": "stream",
     "text": [
      "  Validity: 21.31%, Mean RCF_A: 0.1567\n",
      "Processing house_prices_minimal_9.json...\n",
      "Extracted Dataset Name: house_prices_minimal_9.json\n"
     ]
    },
    {
     "data": {
      "application/vnd.jupyter.widget-view+json": {
       "model_id": "0e9b52f34aca43ea9da780c87a6755a4",
       "version_major": 2,
       "version_minor": 0
      },
      "text/plain": [
       "  0%|          | 0/1600 [00:00<?, ?it/s]"
      ]
     },
     "metadata": {},
     "output_type": "display_data"
    },
    {
     "name": "stdout",
     "output_type": "stream",
     "text": [
      "  Validity: 9.69%, Mean RCF_A: 0.0023\n",
      "\n",
      "Successfully processed 40 files\n",
      "               filename  validity_percent  mean_RCF_A  is_minimal  \\\n",
      "0   house_prices_0.json             100.0    0.391430       False   \n",
      "1   house_prices_1.json             100.0    0.414843       False   \n",
      "2  house_prices_10.json             100.0    0.411387       False   \n",
      "3  house_prices_11.json             100.0    0.378670       False   \n",
      "4  house_prices_12.json             100.0    0.421562       False   \n",
      "\n",
      "  perturbation_id  \n",
      "0               0  \n",
      "1               1  \n",
      "2              10  \n",
      "3              11  \n",
      "4              12  \n"
     ]
    }
   ],
   "source": [
    "# Process all house price results files\n",
    "results_dir = REPO_ROOT / \"analysis/prompt_sensitivity/results\"\n",
    "all_files = glob.glob(str(results_dir / \"house_prices_*.json\"))\n",
    "\n",
    "print(f\"Found {len(all_files)} files to process\")\n",
    "\n",
    "# Process each file\n",
    "processed_results = []\n",
    "for filepath in sorted(all_files):\n",
    "    filename = os.path.basename(filepath)\n",
    "    print(f\"Processing {filename}...\")\n",
    "    \n",
    "    try:\n",
    "        # Run postprocessing first\n",
    "        postprocessing_result = postprocessing(filepath, force=True, distance_metric=\"gower\", save=True, explicit_dataset=\"\")\n",
    "        \n",
    "        # Then run scoring\n",
    "        scores = scoring_function(filepath, verbose=0, overwrite=False)\n",
    "        \n",
    "        # Extract key metrics\n",
    "        result = {\n",
    "            'filename': filename,\n",
    "            'validity_percent': scores['validity_percent'],\n",
    "            'mean_RCF_A': scores['mean_RCF_A'],\n",
    "            'is_minimal': 'minimal' in filename,\n",
    "            'perturbation_id': filename.split('_')[-1].replace('.json', '')\n",
    "        }\n",
    "        \n",
    "        processed_results.append(result)\n",
    "        print(f\"  Validity: {result['validity_percent']:.2f}%, Mean RCF_A: {result['mean_RCF_A']:.4f}\")\n",
    "        \n",
    "    except Exception as e:\n",
    "        print(f\"  Error processing {filename}: {str(e)}\")\n",
    "        continue\n",
    "\n",
    "print(f\"\\nSuccessfully processed {len(processed_results)} files\")\n",
    "df_results = pd.DataFrame(processed_results)\n",
    "print(df_results.head())"
   ]
  },
  {
   "cell_type": "code",
   "execution_count": 4,
   "metadata": {},
   "outputs": [
    {
     "name": "stdout",
     "output_type": "stream",
     "text": [
      "Standard results: 20\n",
      "Minimal results: 20\n"
     ]
    },
    {
     "data": {
      "image/svg+xml": [
       "<?xml version=\"1.0\" encoding=\"utf-8\" standalone=\"no\"?>\n",
       "<!DOCTYPE svg PUBLIC \"-//W3C//DTD SVG 1.1//EN\"\n",
       "  \"http://www.w3.org/Graphics/SVG/1.1/DTD/svg11.dtd\">\n",
       "<svg xmlns:xlink=\"http://www.w3.org/1999/xlink\" width=\"280.8pt\" height=\"280.8pt\" viewBox=\"0 0 280.8 280.8\" xmlns=\"http://www.w3.org/2000/svg\" version=\"1.1\">\n",
       " <metadata>\n",
       "  <rdf:RDF xmlns:dc=\"http://purl.org/dc/elements/1.1/\" xmlns:cc=\"http://creativecommons.org/ns#\" xmlns:rdf=\"http://www.w3.org/1999/02/22-rdf-syntax-ns#\">\n",
       "   <cc:Work>\n",
       "    <dc:type rdf:resource=\"http://purl.org/dc/dcmitype/StillImage\"/>\n",
       "    <dc:date>2025-09-10T16:14:45.462044</dc:date>\n",
       "    <dc:format>image/svg+xml</dc:format>\n",
       "    <dc:creator>\n",
       "     <cc:Agent>\n",
       "      <dc:title>Matplotlib v3.10.3, https://matplotlib.org/</dc:title>\n",
       "     </cc:Agent>\n",
       "    </dc:creator>\n",
       "   </cc:Work>\n",
       "  </rdf:RDF>\n",
       " </metadata>\n",
       " <defs>\n",
       "  <style type=\"text/css\">*{stroke-linejoin: round; stroke-linecap: butt}</style>\n",
       " </defs>\n",
       " <g id=\"figure_1\">\n",
       "  <g id=\"patch_1\">\n",
       "   <path d=\"M 0 280.8 \n",
       "L 280.8 280.8 \n",
       "L 280.8 0 \n",
       "L 0 0 \n",
       "z\n",
       "\" style=\"fill: #ffffff\"/>\n",
       "  </g>\n",
       "  <g id=\"axes_1\">\n",
       "   <g id=\"patch_2\">\n",
       "    <path d=\"M 10.7 270.1 \n",
       "L 273.6 270.1 \n",
       "L 273.6 7.2 \n",
       "L 10.7 7.2 \n",
       "z\n",
       "\" style=\"fill: #ffffff\"/>\n",
       "   </g>\n",
       "   <g id=\"patch_3\">\n",
       "    <path d=\"M 10.7 270.1 \n",
       "L 10.7 7.2 \n",
       "\" style=\"fill: none; stroke: #000000; stroke-width: 0.8; stroke-linejoin: miter; stroke-linecap: square\"/>\n",
       "   </g>\n",
       "   <g id=\"matplotlib.axis_1\">\n",
       "    <g id=\"xtick_1\">\n",
       "     <g id=\"line2d_1\">\n",
       "      <defs>\n",
       "       <path id=\"m6db155a990\" d=\"M 0 0 \n",
       "L 0 3.5 \n",
       "\" style=\"stroke: #000000; stroke-width: 0.8\"/>\n",
       "      </defs>\n",
       "      <g>\n",
       "       <use xlink:href=\"#m6db155a990\" x=\"10.7\" y=\"270.1\" style=\"stroke: #000000; stroke-width: 0.8\"/>\n",
       "      </g>\n",
       "     </g>\n",
       "    </g>\n",
       "    <g id=\"xtick_2\">\n",
       "     <g id=\"line2d_2\">\n",
       "      <g>\n",
       "       <use xlink:href=\"#m6db155a990\" x=\"63.28\" y=\"270.1\" style=\"stroke: #000000; stroke-width: 0.8\"/>\n",
       "      </g>\n",
       "     </g>\n",
       "    </g>\n",
       "    <g id=\"xtick_3\">\n",
       "     <g id=\"line2d_3\">\n",
       "      <g>\n",
       "       <use xlink:href=\"#m6db155a990\" x=\"115.86\" y=\"270.1\" style=\"stroke: #000000; stroke-width: 0.8\"/>\n",
       "      </g>\n",
       "     </g>\n",
       "    </g>\n",
       "    <g id=\"xtick_4\">\n",
       "     <g id=\"line2d_4\">\n",
       "      <g>\n",
       "       <use xlink:href=\"#m6db155a990\" x=\"168.44\" y=\"270.1\" style=\"stroke: #000000; stroke-width: 0.8\"/>\n",
       "      </g>\n",
       "     </g>\n",
       "    </g>\n",
       "    <g id=\"xtick_5\">\n",
       "     <g id=\"line2d_5\">\n",
       "      <g>\n",
       "       <use xlink:href=\"#m6db155a990\" x=\"221.02\" y=\"270.1\" style=\"stroke: #000000; stroke-width: 0.8\"/>\n",
       "      </g>\n",
       "     </g>\n",
       "    </g>\n",
       "    <g id=\"xtick_6\">\n",
       "     <g id=\"line2d_6\">\n",
       "      <g>\n",
       "       <use xlink:href=\"#m6db155a990\" x=\"273.6\" y=\"270.1\" style=\"stroke: #000000; stroke-width: 0.8\"/>\n",
       "      </g>\n",
       "     </g>\n",
       "    </g>\n",
       "   </g>\n",
       "   <g id=\"matplotlib.axis_2\">\n",
       "    <g id=\"ytick_1\">\n",
       "     <g id=\"line2d_7\">\n",
       "      <defs>\n",
       "       <path id=\"ma1fc71780d\" d=\"M 0 0 \n",
       "L -3.5 0 \n",
       "\" style=\"stroke: #000000; stroke-width: 0.8\"/>\n",
       "      </defs>\n",
       "      <g>\n",
       "       <use xlink:href=\"#ma1fc71780d\" x=\"10.7\" y=\"270.1\" style=\"stroke: #000000; stroke-width: 0.8\"/>\n",
       "      </g>\n",
       "     </g>\n",
       "    </g>\n",
       "    <g id=\"ytick_2\">\n",
       "     <g id=\"line2d_8\">\n",
       "      <g>\n",
       "       <use xlink:href=\"#ma1fc71780d\" x=\"10.7\" y=\"218.55098\" style=\"stroke: #000000; stroke-width: 0.8\"/>\n",
       "      </g>\n",
       "     </g>\n",
       "    </g>\n",
       "    <g id=\"ytick_3\">\n",
       "     <g id=\"line2d_9\">\n",
       "      <g>\n",
       "       <use xlink:href=\"#ma1fc71780d\" x=\"10.7\" y=\"167.001961\" style=\"stroke: #000000; stroke-width: 0.8\"/>\n",
       "      </g>\n",
       "     </g>\n",
       "    </g>\n",
       "    <g id=\"ytick_4\">\n",
       "     <g id=\"line2d_10\">\n",
       "      <g>\n",
       "       <use xlink:href=\"#ma1fc71780d\" x=\"10.7\" y=\"115.452941\" style=\"stroke: #000000; stroke-width: 0.8\"/>\n",
       "      </g>\n",
       "     </g>\n",
       "    </g>\n",
       "    <g id=\"ytick_5\">\n",
       "     <g id=\"line2d_11\">\n",
       "      <g>\n",
       "       <use xlink:href=\"#ma1fc71780d\" x=\"10.7\" y=\"63.903922\" style=\"stroke: #000000; stroke-width: 0.8\"/>\n",
       "      </g>\n",
       "     </g>\n",
       "    </g>\n",
       "    <g id=\"ytick_6\">\n",
       "     <g id=\"line2d_12\">\n",
       "      <g>\n",
       "       <use xlink:href=\"#ma1fc71780d\" x=\"10.7\" y=\"12.354902\" style=\"stroke: #000000; stroke-width: 0.8\"/>\n",
       "      </g>\n",
       "     </g>\n",
       "    </g>\n",
       "   </g>\n",
       "   <g id=\"patch_4\">\n",
       "    <path d=\"M 10.7 270.1 \n",
       "L 273.6 270.1 \n",
       "\" style=\"fill: none; stroke: #000000; stroke-width: 0.8; stroke-linejoin: miter; stroke-linecap: square\"/>\n",
       "   </g>\n",
       "   <g id=\"PathCollection_1\">\n",
       "    <defs>\n",
       "     <path id=\"mf8c170038d\" d=\"M 0 4.609772 \n",
       "C 1.222526 4.609772 2.395145 4.124058 3.259601 3.259601 \n",
       "C 4.124058 2.395145 4.609772 1.222526 4.609772 0 \n",
       "C 4.609772 -1.222526 4.124058 -2.395145 3.259601 -3.259601 \n",
       "C 2.395145 -4.124058 1.222526 -4.609772 0 -4.609772 \n",
       "C -1.222526 -4.609772 -2.395145 -4.124058 -3.259601 -3.259601 \n",
       "C -4.124058 -2.395145 -4.609772 -1.222526 -4.609772 0 \n",
       "C -4.609772 1.222526 -4.124058 2.395145 -3.259601 3.259601 \n",
       "C -2.395145 4.124058 -1.222526 4.609772 0 4.609772 \n",
       "z\n",
       "\" style=\"stroke: #596bb3; stroke-opacity: 0.6; stroke-width: 0.5\"/>\n",
       "    </defs>\n",
       "    <g>\n",
       "     <use xlink:href=\"#mf8c170038d\" x=\"216.513658\" y=\"12.354902\" style=\"fill: #596bb3; fill-opacity: 0.6; stroke: #596bb3; stroke-opacity: 0.6; stroke-width: 0.5\"/>\n",
       "     <use xlink:href=\"#mf8c170038d\" x=\"228.824483\" y=\"12.354902\" style=\"fill: #596bb3; fill-opacity: 0.6; stroke: #596bb3; stroke-opacity: 0.6; stroke-width: 0.5\"/>\n",
       "     <use xlink:href=\"#mf8c170038d\" x=\"227.007317\" y=\"12.354902\" style=\"fill: #596bb3; fill-opacity: 0.6; stroke: #596bb3; stroke-opacity: 0.6; stroke-width: 0.5\"/>\n",
       "     <use xlink:href=\"#mf8c170038d\" x=\"209.804591\" y=\"12.354902\" style=\"fill: #596bb3; fill-opacity: 0.6; stroke: #596bb3; stroke-opacity: 0.6; stroke-width: 0.5\"/>\n",
       "     <use xlink:href=\"#mf8c170038d\" x=\"232.357202\" y=\"12.354902\" style=\"fill: #596bb3; fill-opacity: 0.6; stroke: #596bb3; stroke-opacity: 0.6; stroke-width: 0.5\"/>\n",
       "     <use xlink:href=\"#mf8c170038d\" x=\"224.733967\" y=\"12.354902\" style=\"fill: #596bb3; fill-opacity: 0.6; stroke: #596bb3; stroke-opacity: 0.6; stroke-width: 0.5\"/>\n",
       "     <use xlink:href=\"#mf8c170038d\" x=\"233.635308\" y=\"12.354902\" style=\"fill: #596bb3; fill-opacity: 0.6; stroke: #596bb3; stroke-opacity: 0.6; stroke-width: 0.5\"/>\n",
       "     <use xlink:href=\"#mf8c170038d\" x=\"220.786863\" y=\"12.354902\" style=\"fill: #596bb3; fill-opacity: 0.6; stroke: #596bb3; stroke-opacity: 0.6; stroke-width: 0.5\"/>\n",
       "     <use xlink:href=\"#mf8c170038d\" x=\"227.251984\" y=\"12.354902\" style=\"fill: #596bb3; fill-opacity: 0.6; stroke: #596bb3; stroke-opacity: 0.6; stroke-width: 0.5\"/>\n",
       "     <use xlink:href=\"#mf8c170038d\" x=\"228.025622\" y=\"12.354902\" style=\"fill: #596bb3; fill-opacity: 0.6; stroke: #596bb3; stroke-opacity: 0.6; stroke-width: 0.5\"/>\n",
       "     <use xlink:href=\"#mf8c170038d\" x=\"229.422638\" y=\"12.354902\" style=\"fill: #596bb3; fill-opacity: 0.6; stroke: #596bb3; stroke-opacity: 0.6; stroke-width: 0.5\"/>\n",
       "     <use xlink:href=\"#mf8c170038d\" x=\"234.496868\" y=\"12.354902\" style=\"fill: #596bb3; fill-opacity: 0.6; stroke: #596bb3; stroke-opacity: 0.6; stroke-width: 0.5\"/>\n",
       "     <use xlink:href=\"#mf8c170038d\" x=\"228.198582\" y=\"12.354902\" style=\"fill: #596bb3; fill-opacity: 0.6; stroke: #596bb3; stroke-opacity: 0.6; stroke-width: 0.5\"/>\n",
       "     <use xlink:href=\"#mf8c170038d\" x=\"228.897271\" y=\"12.354902\" style=\"fill: #596bb3; fill-opacity: 0.6; stroke: #596bb3; stroke-opacity: 0.6; stroke-width: 0.5\"/>\n",
       "     <use xlink:href=\"#mf8c170038d\" x=\"224.82369\" y=\"12.354902\" style=\"fill: #596bb3; fill-opacity: 0.6; stroke: #596bb3; stroke-opacity: 0.6; stroke-width: 0.5\"/>\n",
       "     <use xlink:href=\"#mf8c170038d\" x=\"234.042126\" y=\"12.354902\" style=\"fill: #596bb3; fill-opacity: 0.6; stroke: #596bb3; stroke-opacity: 0.6; stroke-width: 0.5\"/>\n",
       "     <use xlink:href=\"#mf8c170038d\" x=\"257.447649\" y=\"12.354902\" style=\"fill: #596bb3; fill-opacity: 0.6; stroke: #596bb3; stroke-opacity: 0.6; stroke-width: 0.5\"/>\n",
       "     <use xlink:href=\"#mf8c170038d\" x=\"229.656495\" y=\"12.354902\" style=\"fill: #596bb3; fill-opacity: 0.6; stroke: #596bb3; stroke-opacity: 0.6; stroke-width: 0.5\"/>\n",
       "     <use xlink:href=\"#mf8c170038d\" x=\"229.739012\" y=\"12.354902\" style=\"fill: #596bb3; fill-opacity: 0.6; stroke: #596bb3; stroke-opacity: 0.6; stroke-width: 0.5\"/>\n",
       "     <use xlink:href=\"#mf8c170038d\" x=\"228.846464\" y=\"12.354902\" style=\"fill: #596bb3; fill-opacity: 0.6; stroke: #596bb3; stroke-opacity: 0.6; stroke-width: 0.5\"/>\n",
       "    </g>\n",
       "   </g>\n",
       "   <g id=\"PathCollection_2\">\n",
       "    <defs>\n",
       "     <path id=\"maba10c31db\" d=\"M 0 4.609772 \n",
       "C 1.222526 4.609772 2.395145 4.124058 3.259601 3.259601 \n",
       "C 4.124058 2.395145 4.609772 1.222526 4.609772 0 \n",
       "C 4.609772 -1.222526 4.124058 -2.395145 3.259601 -3.259601 \n",
       "C 2.395145 -4.124058 1.222526 -4.609772 0 -4.609772 \n",
       "C -1.222526 -4.609772 -2.395145 -4.124058 -3.259601 -3.259601 \n",
       "C -4.124058 -2.395145 -4.609772 -1.222526 -4.609772 0 \n",
       "C -4.609772 1.222526 -4.124058 2.395145 -3.259601 3.259601 \n",
       "C -2.395145 4.124058 -1.222526 4.609772 0 4.609772 \n",
       "z\n",
       "\" style=\"stroke: #61a580; stroke-opacity: 0.6; stroke-width: 0.5\"/>\n",
       "    </defs>\n",
       "    <g>\n",
       "     <use xlink:href=\"#maba10c31db\" x=\"11.046651\" y=\"244.647672\" style=\"fill: #61a580; fill-opacity: 0.6; stroke: #61a580; stroke-opacity: 0.6; stroke-width: 0.5\"/>\n",
       "     <use xlink:href=\"#maba10c31db\" x=\"10.7\" y=\"246.594944\" style=\"fill: #61a580; fill-opacity: 0.6; stroke: #61a580; stroke-opacity: 0.6; stroke-width: 0.5\"/>\n",
       "     <use xlink:href=\"#maba10c31db\" x=\"12.219956\" y=\"245.292034\" style=\"fill: #61a580; fill-opacity: 0.6; stroke: #61a580; stroke-opacity: 0.6; stroke-width: 0.5\"/>\n",
       "     <use xlink:href=\"#maba10c31db\" x=\"50.703921\" y=\"235.948775\" style=\"fill: #61a580; fill-opacity: 0.6; stroke: #61a580; stroke-opacity: 0.6; stroke-width: 0.5\"/>\n",
       "     <use xlink:href=\"#maba10c31db\" x=\"12.658741\" y=\"244.969853\" style=\"fill: #61a580; fill-opacity: 0.6; stroke: #61a580; stroke-opacity: 0.6; stroke-width: 0.5\"/>\n",
       "     <use xlink:href=\"#maba10c31db\" x=\"17.06535\" y=\"242.392402\" style=\"fill: #61a580; fill-opacity: 0.6; stroke: #61a580; stroke-opacity: 0.6; stroke-width: 0.5\"/>\n",
       "     <use xlink:href=\"#maba10c31db\" x=\"15.088998\" y=\"242.231311\" style=\"fill: #61a580; fill-opacity: 0.6; stroke: #61a580; stroke-opacity: 0.6; stroke-width: 0.5\"/>\n",
       "     <use xlink:href=\"#maba10c31db\" x=\"26.663694\" y=\"243.681127\" style=\"fill: #61a580; fill-opacity: 0.6; stroke: #61a580; stroke-opacity: 0.6; stroke-width: 0.5\"/>\n",
       "     <use xlink:href=\"#maba10c31db\" x=\"12.268874\" y=\"243.520037\" style=\"fill: #61a580; fill-opacity: 0.6; stroke: #61a580; stroke-opacity: 0.6; stroke-width: 0.5\"/>\n",
       "     <use xlink:href=\"#maba10c31db\" x=\"19.038345\" y=\"241.90913\" style=\"fill: #61a580; fill-opacity: 0.6; stroke: #61a580; stroke-opacity: 0.6; stroke-width: 0.5\"/>\n",
       "     <use xlink:href=\"#maba10c31db\" x=\"14.051544\" y=\"243.358946\" style=\"fill: #61a580; fill-opacity: 0.6; stroke: #61a580; stroke-opacity: 0.6; stroke-width: 0.5\"/>\n",
       "     <use xlink:href=\"#maba10c31db\" x=\"10.744066\" y=\"244.808762\" style=\"fill: #61a580; fill-opacity: 0.6; stroke: #61a580; stroke-opacity: 0.6; stroke-width: 0.5\"/>\n",
       "     <use xlink:href=\"#maba10c31db\" x=\"16.814306\" y=\"239.49277\" style=\"fill: #61a580; fill-opacity: 0.6; stroke: #61a580; stroke-opacity: 0.6; stroke-width: 0.5\"/>\n",
       "     <use xlink:href=\"#maba10c31db\" x=\"28.847899\" y=\"241.425858\" style=\"fill: #61a580; fill-opacity: 0.6; stroke: #61a580; stroke-opacity: 0.6; stroke-width: 0.5\"/>\n",
       "     <use xlink:href=\"#maba10c31db\" x=\"13.195005\" y=\"242.070221\" style=\"fill: #61a580; fill-opacity: 0.6; stroke: #61a580; stroke-opacity: 0.6; stroke-width: 0.5\"/>\n",
       "     <use xlink:href=\"#maba10c31db\" x=\"12.773378\" y=\"244.14818\" style=\"fill: #61a580; fill-opacity: 0.6; stroke: #61a580; stroke-opacity: 0.6; stroke-width: 0.5\"/>\n",
       "     <use xlink:href=\"#maba10c31db\" x=\"40.165617\" y=\"234.337868\" style=\"fill: #61a580; fill-opacity: 0.6; stroke: #61a580; stroke-opacity: 0.6; stroke-width: 0.5\"/>\n",
       "     <use xlink:href=\"#maba10c31db\" x=\"54.213371\" y=\"236.088608\" style=\"fill: #61a580; fill-opacity: 0.6; stroke: #61a580; stroke-opacity: 0.6; stroke-width: 0.5\"/>\n",
       "     <use xlink:href=\"#maba10c31db\" x=\"93.112394\" y=\"215.168076\" style=\"fill: #61a580; fill-opacity: 0.6; stroke: #61a580; stroke-opacity: 0.6; stroke-width: 0.5\"/>\n",
       "     <use xlink:href=\"#maba10c31db\" x=\"11.901425\" y=\"245.130944\" style=\"fill: #61a580; fill-opacity: 0.6; stroke: #61a580; stroke-opacity: 0.6; stroke-width: 0.5\"/>\n",
       "    </g>\n",
       "   </g>\n",
       "   <g id=\"PathCollection_3\">\n",
       "    <defs>\n",
       "     <path id=\"mfe20707224\" d=\"M 0 -5.477226 \n",
       "L -1.229714 -1.692556 \n",
       "L -5.209151 -1.692556 \n",
       "L -1.989719 0.646499 \n",
       "L -3.219432 4.431169 \n",
       "L -0 2.092114 \n",
       "L 3.219432 4.431169 \n",
       "L 1.989719 0.646499 \n",
       "L 5.209151 -1.692556 \n",
       "L 1.229714 -1.692556 \n",
       "z\n",
       "\" style=\"stroke: #000000; stroke-width: 0.5\"/>\n",
       "    </defs>\n",
       "    <g>\n",
       "     <use xlink:href=\"#mfe20707224\" x=\"223.683592\" y=\"12.354902\" style=\"fill: #ffd700; stroke: #000000; stroke-width: 0.5\"/>\n",
       "    </g>\n",
       "   </g>\n",
       "   <g id=\"PathCollection_4\">\n",
       "    <g>\n",
       "     <use xlink:href=\"#mfe20707224\" x=\"18.861088\" y=\"246.258578\" style=\"fill: #ffd700; stroke: #000000; stroke-width: 0.5\"/>\n",
       "    </g>\n",
       "   </g>\n",
       "  </g>\n",
       " </g>\n",
       "</svg>\n"
      ],
      "text/plain": [
       "<Figure size 600x600 with 1 Axes>"
      ]
     },
     "metadata": {},
     "output_type": "display_data"
    },
    {
     "name": "stdout",
     "output_type": "stream",
     "text": [
      "\n",
      "=== SUMMARY STATISTICS ===\n",
      "Standard prompts - Validity: 100.00±0.00%\n",
      "Standard prompts - Mean RCF_A: 0.4147±0.0171\n",
      "Minimal prompts - Validity: 11.34±2.68%\n",
      "Minimal prompts - Mean RCF_A: 0.0256±0.0398\n",
      "\n",
      "Standard prompts validity range: 100.00% - 100.00%\n",
      "Minimal prompts validity range: 9.12% - 21.31%\n"
     ]
    }
   ],
   "source": [
    "# Create scatter plot for all house price results\n",
    "# Color and styling parameters (from scatter.ipynb)\n",
    "colour_1 = \"#596BB3\"  # Standard prompts [Good]\n",
    "colour_2 = \"#61A580\"  # Minimal prompts [Good]\n",
    "_alpha = 0.6\n",
    "_size = 85\n",
    "_x_lim_min = 0.0\n",
    "max = 0.5\n",
    "\n",
    "# Separate standard and minimal results\n",
    "standard_results = df_results[~df_results['is_minimal']].copy()\n",
    "minimal_results = df_results[df_results['is_minimal']].copy()\n",
    "\n",
    "print(f\"Standard results: {len(standard_results)}\")\n",
    "print(f\"Minimal results: {len(minimal_results)}\")\n",
    "\n",
    "# Create the scatter plot\n",
    "fig, ax = plt.subplots(figsize=(4, 4), dpi=150,zorder=0)\n",
    "\n",
    "\n",
    "ax.set_axisbelow(True)\n",
    "\n",
    "for spine in ['top', 'right']:\n",
    "    spine_obj = ax.spines[spine]\n",
    "    spine_obj.set_visible(False)\n",
    "\n",
    "ax.spines['left'].set_zorder(0)\n",
    "ax.spines['bottom'].set_zorder(1)\n",
    "\n",
    "# Plot standard results\n",
    "ax.scatter(standard_results['mean_RCF_A'], standard_results['validity_percent'], \n",
    "           label='Standard', marker='o', s=_size, color=colour_1, \n",
    "           linewidth=0.5, alpha=_alpha, zorder=4, clip_on=False)\n",
    "\n",
    "# Plot minimal results  \n",
    "ax.scatter(minimal_results['mean_RCF_A'], minimal_results['validity_percent'],\n",
    "           label='Minimal', marker='o', s=_size, color=colour_2,\n",
    "           linewidth=0.5, alpha=_alpha, zorder=10, clip_on=False)\n",
    "\n",
    "# Styling\n",
    "\n",
    "\n",
    "# Star markers (highlighted points – not part of standard/minimal groups)\n",
    "highlight_points = [\n",
    "    (0.40506578942993654, 100),\n",
    "    (0.015521277535102657, 9.25)\n",
    "]\n",
    "\n",
    "for (x, y) in highlight_points:\n",
    "    ax.scatter([x], [y],\n",
    "               marker='*', s=120, color='gold',\n",
    "               edgecolor='black', linewidth=0.5,\n",
    "               alpha=1.0, zorder=11, clip_on=False)\n",
    "\n",
    "\n",
    "\n",
    "# Set axis limits\n",
    "ax.set_xlim(_x_lim_min, max)\n",
    "ax.set_ylim(0, 102)\n",
    "\n",
    "\n",
    "ax.set_xticklabels([])   # remove x tick-label text\n",
    "ax.set_yticklabels([])\n",
    "\n",
    "plt.tight_layout()\n",
    "plt.savefig(REPO_ROOT / \"analysis/prompt_sensitivity/scatter_all_perturbations.png\", \n",
    "            bbox_inches='tight', dpi=300)\n",
    "plt.show()\n",
    "\n",
    "\n",
    "\n",
    "\n",
    "\n",
    "# Print summary statistics\n",
    "print(\"\\n=== SUMMARY STATISTICS ===\")\n",
    "print(f\"Standard prompts - Validity: {standard_results['validity_percent'].mean():.2f}±{standard_results['validity_percent'].std():.2f}%\")\n",
    "print(f\"Standard prompts - Mean RCF_A: {standard_results['mean_RCF_A'].mean():.4f}±{standard_results['mean_RCF_A'].std():.4f}\")\n",
    "print(f\"Minimal prompts - Validity: {minimal_results['validity_percent'].mean():.2f}±{minimal_results['validity_percent'].std():.2f}%\")\n",
    "print(f\"Minimal prompts - Mean RCF_A: {minimal_results['mean_RCF_A'].mean():.4f}±{minimal_results['mean_RCF_A'].std():.4f}\")\n",
    "\n",
    "# Show distribution of results\n",
    "print(f\"\\nStandard prompts validity range: {standard_results['validity_percent'].min():.2f}% - {standard_results['validity_percent'].max():.2f}%\")\n",
    "print(f\"Minimal prompts validity range: {minimal_results['validity_percent'].min():.2f}% - {minimal_results['validity_percent'].max():.2f}%\")"
   ]
  },
  {
   "cell_type": "code",
   "execution_count": null,
   "metadata": {},
   "outputs": [],
   "source": []
  },
  {
   "cell_type": "code",
   "execution_count": null,
   "metadata": {},
   "outputs": [],
   "source": []
  }
 ],
 "metadata": {
  "kernelspec": {
   "display_name": "vllm",
   "language": "python",
   "name": "python3"
  },
  "language_info": {
   "codemirror_mode": {
    "name": "ipython",
    "version": 3
   },
   "file_extension": ".py",
   "mimetype": "text/x-python",
   "name": "python",
   "nbconvert_exporter": "python",
   "pygments_lexer": "ipython3",
   "version": "3.11.13"
  }
 },
 "nbformat": 4,
 "nbformat_minor": 2
}
